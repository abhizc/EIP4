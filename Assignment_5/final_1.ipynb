{
  "nbformat": 4,
  "nbformat_minor": 0,
  "metadata": {
    "colab": {
      "name": "final_1.ipynb",
      "provenance": [],
      "collapsed_sections": [],
      "include_colab_link": true
    },
    "kernelspec": {
      "name": "python3",
      "display_name": "Python 3"
    },
    "accelerator": "GPU"
  },
  "cells": [
    {
      "cell_type": "markdown",
      "metadata": {
        "id": "view-in-github",
        "colab_type": "text"
      },
      "source": [
        "<a href=\"https://colab.research.google.com/github/abhizc/EIP4/blob/master/Assignment_5/final_1.ipynb\" target=\"_parent\"><img src=\"https://colab.research.google.com/assets/colab-badge.svg\" alt=\"Open In Colab\"/></a>"
      ]
    },
    {
      "cell_type": "markdown",
      "metadata": {
        "id": "jF2akdcQ4OUS",
        "colab_type": "text"
      },
      "source": [
        "## Library"
      ]
    },
    {
      "cell_type": "code",
      "metadata": {
        "id": "qNPhXN864Q1u",
        "colab_type": "code",
        "colab": {}
      },
      "source": [
        "%tensorflow_version 1.x\n",
        "from __future__ import print_function\n",
        "import keras\n",
        "from keras.layers import Dense, Conv2D, BatchNormalization, Activation\n",
        "from keras.layers import GlobalAveragePooling2D, Input, Flatten, Dropout, AveragePooling2D\n",
        "from keras.optimizers import Adam\n",
        "from keras.callbacks import ModelCheckpoint, LearningRateScheduler\n",
        "from keras.callbacks import ReduceLROnPlateau\n",
        "from keras.preprocessing.image import ImageDataGenerator\n",
        "from keras.regularizers import l2\n",
        "from keras import backend as K\n",
        "from keras.models import Model\n",
        "from keras.datasets import cifar10\n",
        "import numpy as np\n",
        "import pandas as pd\n",
        "import os\n",
        "import cv2\n",
        "from google.colab.patches import cv2_imshow\n",
        "from sklearn.model_selection import train_test_split\n",
        "from sklearn.preprocessing import LabelEncoder, OneHotEncoder\n",
        "from keras.utils.vis_utils import plot_model\n",
        "\n",
        "\n",
        "from functools import partial\n",
        "from pathlib import Path \n",
        "from tqdm import tqdm\n",
        "\n",
        "from keras.optimizers import SGD\n"
      ],
      "execution_count": 0,
      "outputs": []
    },
    {
      "cell_type": "markdown",
      "metadata": {
        "id": "2AnrNWe_4vlS",
        "colab_type": "text"
      },
      "source": [
        "## Data"
      ]
    },
    {
      "cell_type": "code",
      "metadata": {
        "id": "W6FXuFtPZZqV",
        "colab_type": "code",
        "outputId": "0329012a-2c04-4849-ced1-65313546d906",
        "colab": {
          "base_uri": "https://localhost:8080/",
          "height": 66
        }
      },
      "source": [
        "from google.colab import drive\n",
        "drive.mount('/content/gdrive')\n",
        "!unzip -q \"/content/gdrive/My Drive/hvc_data.zip\"\n",
        "%ls "
      ],
      "execution_count": 47,
      "outputs": [
        {
          "output_type": "stream",
          "text": [
            "Drive already mounted at /content/gdrive; to attempt to forcibly remount, call drive.mount(\"/content/gdrive\", force_remount=True).\n",
            "replace resized/9733.jpg? [y]es, [n]o, [A]ll, [N]one, [r]ename: N\n",
            "\u001b[0m\u001b[01;34mgdrive\u001b[0m/  hvc_annotations.csv  \u001b[01;34mresized\u001b[0m/  \u001b[01;34msample_data\u001b[0m/\n"
          ],
          "name": "stdout"
        }
      ]
    },
    {
      "cell_type": "code",
      "metadata": {
        "id": "UBTDU_0J4yAw",
        "colab_type": "code",
        "colab": {}
      },
      "source": [
        "df = pd.read_csv(\"hvc_annotations.csv\")\n",
        "del df[\"filename\"] # remove unwanted column\n",
        "\n",
        "one_hot_df = pd.concat([\n",
        "    df[[\"image_path\"]],\n",
        "    pd.get_dummies(df.gender, prefix=\"gender\"),\n",
        "    pd.get_dummies(df.imagequality, prefix=\"imagequality\"),\n",
        "    pd.get_dummies(df.age, prefix=\"age\"),\n",
        "    pd.get_dummies(df.weight, prefix=\"weight\"),\n",
        "    pd.get_dummies(df.carryingbag, prefix=\"carryingbag\"),\n",
        "    pd.get_dummies(df.footwear, prefix=\"footwear\"),\n",
        "    pd.get_dummies(df.emotion, prefix=\"emotion\"),\n",
        "    pd.get_dummies(df.bodypose, prefix=\"bodypose\"),\n",
        "], axis = 1)\n",
        "\n",
        "_gender_cols_ = [col for col in one_hot_df.columns if col.startswith(\"gender\")]\n",
        "_imagequality_cols_ = [col for col in one_hot_df.columns if col.startswith(\"imagequality\")]\n",
        "_age_cols_ = [col for col in one_hot_df.columns if col.startswith(\"age\")]\n",
        "_weight_cols_ = [col for col in one_hot_df.columns if col.startswith(\"weight\")]\n",
        "_carryingbag_cols_ = [col for col in one_hot_df.columns if col.startswith(\"carryingbag\")]\n",
        "_footwear_cols_ = [col for col in one_hot_df.columns if col.startswith(\"footwear\")]\n",
        "_emotion_cols_ = [col for col in one_hot_df.columns if col.startswith(\"emotion\")]\n",
        "_bodypose_cols_ = [col for col in one_hot_df.columns if col.startswith(\"bodypose\")]\n",
        "\n",
        "class PersonDataGenerator(keras.utils.Sequence):\n",
        "    \"\"\"Ground truth data generator\"\"\"\n",
        "\n",
        "    def __init__(self, df, batch_size=32, shuffle=True, augmentation=None):\n",
        "        self.df = df\n",
        "        self.batch_size=batch_size\n",
        "        self.shuffle = shuffle\n",
        "        self.on_epoch_end()\n",
        "        self.augmentation = augmentation\n",
        "\n",
        "    def __len__(self):\n",
        "        return int(np.floor(self.df.shape[0] / self.batch_size))\n",
        "\n",
        "    def __getitem__(self, index):\n",
        "        \"\"\"fetch batched images and targets\"\"\"\n",
        "        batch_slice = slice(index * self.batch_size, (index + 1) * self.batch_size)\n",
        "        items = self.df.iloc[batch_slice]\n",
        "        \n",
        "        images = np.stack([cv2.imread(item[\"image_path\"]) for _, item in items.iterrows()])        \n",
        "        if self.augmentation is not None:\n",
        "            images = self.augmentation.flow(images, shuffle=False).next()\n",
        "        \n",
        "        target = {\n",
        "            \"gender_output\": items[_gender_cols_].values,\n",
        "            \"image_quality_output\": items[_imagequality_cols_].values,\n",
        "            \"age_output\": items[_age_cols_].values,\n",
        "            \"weight_output\": items[_weight_cols_].values,\n",
        "            \"bag_output\": items[_carryingbag_cols_].values,\n",
        "            \"pose_output\": items[_bodypose_cols_].values,\n",
        "            \"footwear_output\": items[_footwear_cols_].values,\n",
        "            \"emotion_output\": items[_emotion_cols_].values,\n",
        "        }\n",
        "        \n",
        "        return images, target\n",
        "\n",
        "    def on_epoch_end(self):\n",
        "        \"\"\"Updates indexes after each epoch\"\"\"\n",
        "        if self.shuffle == True:\n",
        "            self.df = self.df.sample(frac=1).reset_index(drop=True)\n",
        "\n",
        "\n",
        "from sklearn.model_selection import train_test_split\n",
        "train_df, val_df = train_test_split(one_hot_df, test_size=0.15)\n",
        "train_df.shape, val_df.shape\n",
        "\n",
        "valid_gen = PersonDataGenerator(val_df, batch_size=32, shuffle=False)\n",
        "train_gen = PersonDataGenerator(\n",
        "    train_df, \n",
        "    batch_size=32, \n",
        "    augmentation=ImageDataGenerator(\n",
        "        horizontal_flip=True,\n",
        "        #zoom_range=0.5,\n",
        "        #width_shift_range=0.5, \n",
        "    )\n",
        ")\n",
        "\n",
        "\n",
        "\n",
        "images, targets = next(iter(train_gen))\n",
        "num_units = { k.split(\"_output\")[0]:v.shape[1] for k, v in targets.items()}\n"
      ],
      "execution_count": 0,
      "outputs": []
    },
    {
      "cell_type": "code",
      "metadata": {
        "id": "9rqPH_U5vAMj",
        "colab_type": "code",
        "outputId": "a1b2b690-2d4b-421d-92e4-39a2f8ae3266",
        "colab": {
          "base_uri": "https://localhost:8080/",
          "height": 241
        }
      },
      "source": [
        "cv2_imshow(train_gen[4][0][0])"
      ],
      "execution_count": 65,
      "outputs": [
        {
          "output_type": "display_data",
          "data": {
            "image/png": "[encoded data removed]",
            "text/plain": [
              "<PIL.Image.Image image mode=RGB size=224x224 at 0x7F626B75B278>"
            ]
          },
          "metadata": {
            "tags": []
          }
        }
      ]
    },
    {
      "cell_type": "markdown",
      "metadata": {
        "id": "tema2uH_aZaD",
        "colab_type": "text"
      },
      "source": [
        "## Regularization"
      ]
    },
    {
      "cell_type": "code",
      "metadata": {
        "id": "Y5h0nuyaaeo_",
        "colab_type": "code",
        "colab": {}
      },
      "source": [
        "def lr_schedule(epoch):\n",
        "  lr = epoch/5000\n",
        "  return lr\n",
        "          \n",
        "\n"
      ],
      "execution_count": 0,
      "outputs": []
    },
    {
      "cell_type": "markdown",
      "metadata": {
        "id": "8Qr_2HyfZrkD",
        "colab_type": "text"
      },
      "source": [
        "## Model"
      ]
    },
    {
      "cell_type": "code",
      "metadata": {
        "id": "_BTYiORu79gt",
        "colab_type": "code",
        "colab": {}
      },
      "source": [
        "batch_size = 128\n",
        "epochs = 50\n",
        "num_classes = 10\n",
        "n = 3\n",
        "\n",
        "\n",
        "depth = n * 6 + 2\n",
        "\n",
        "model_type = 'ResNet%d' % (depth)\n"
      ],
      "execution_count": 0,
      "outputs": []
    },
    {
      "cell_type": "code",
      "metadata": {
        "id": "37sMbrF86lqS",
        "colab_type": "code",
        "colab": {}
      },
      "source": [
        "def resnet_layer(inputs,\n",
        "                 num_filters=16,\n",
        "                 kernel_size=3,\n",
        "                 strides=1,\n",
        "                 activation='relu',\n",
        "                 batch_normalization=True,\n",
        "                 conv_first=True):\n",
        "    \"\"\"2D Convolution-Batch Normalization-Activation stack builder\n",
        "\n",
        "    # Arguments\n",
        "        inputs (tensor): input tensor from input image or previous layer\n",
        "        num_filters (int): Conv2D number of filters\n",
        "        kernel_size (int): Conv2D square kernel dimensions\n",
        "        strides (int): Conv2D square stride dimensions\n",
        "        activation (string): activation name\n",
        "        batch_normalization (bool): whether to include batch normalization\n",
        "        conv_first (bool): conv-bn-activation (True) or\n",
        "            bn-activation-conv (False)\n",
        "\n",
        "    # Returns\n",
        "        x (tensor): tensor as input to the next layer\n",
        "    \"\"\"\n",
        "    conv = Conv2D(num_filters,\n",
        "                  kernel_size=kernel_size,\n",
        "                  strides=strides,\n",
        "                  padding='same',\n",
        "                  kernel_initializer='he_normal',\n",
        "                  kernel_regularizer=l2(1e-4))\n",
        "\n",
        "    x = inputs\n",
        "    if conv_first:\n",
        "        x = conv(x)\n",
        "        if batch_normalization:\n",
        "            x = BatchNormalization()(x)\n",
        "        if activation is not None:\n",
        "            x = Activation(activation)(x)\n",
        "    else:\n",
        "        if batch_normalization:\n",
        "            x = BatchNormalization()(x)\n",
        "        if activation is not None:\n",
        "            x = Activation(activation)(x)\n",
        "        x = conv(x)\n",
        "    return x"
      ],
      "execution_count": 0,
      "outputs": []
    },
    {
      "cell_type": "code",
      "metadata": {
        "id": "iNImuv3O7RmA",
        "colab_type": "code",
        "colab": {}
      },
      "source": [
        "def resnet_v1(input_shape, depth, num_classes=10):\n",
        "\n",
        "    if (depth - 2) % 6 != 0:\n",
        "        raise ValueError('depth should be 6n+2 (eg 20, 32, 44 in [a])')\n",
        "    # Start model definition.\n",
        "    num_filters = 16\n",
        "    num_res_blocks = int((depth - 2) / 6)\n",
        "\n",
        "    inputs = Input(shape=input_shape)\n",
        "    x = resnet_layer(inputs=inputs)\n",
        "    # Instantiate the stack of residual units\n",
        "    for stack in range(3):\n",
        "        for res_block in range(num_res_blocks):\n",
        "            strides = 1\n",
        "            if stack > 0 and res_block == 0:  # first layer but not first stack\n",
        "                strides = 2  # downsample\n",
        "            y = resnet_layer(inputs=x,\n",
        "                             num_filters=num_filters,\n",
        "                             strides=strides)\n",
        "            y = resnet_layer(inputs=y,\n",
        "                             num_filters=num_filters,\n",
        "                             activation=None)\n",
        "            if stack > 0 and res_block == 0:  # first layer but not first stack\n",
        "                # linear projection residual shortcut connection to match\n",
        "                # changed dims\n",
        "                x = resnet_layer(inputs=x,\n",
        "                                 num_filters=num_filters,\n",
        "                                 kernel_size=1,\n",
        "                                 strides=strides,\n",
        "                                 activation=None,\n",
        "                                 batch_normalization=False)\n",
        "            x = keras.layers.add([x, y])\n",
        "            x = Activation('relu')(x)\n",
        "        num_filters *= 2\n",
        "\n",
        "    # Add classifier on top.\n",
        "    # v1 does not use BN after last shortcut connection-ReLU\n",
        "    x = AveragePooling2D(pool_size=8)(x)\n",
        "    neck = Flatten()(x)\n",
        "    neck = Dense(512, activation=\"relu\")(neck)\n",
        "\n",
        "\n",
        "    def build_tower(in_layer):\n",
        "        neck = Dropout(0.2)(in_layer)\n",
        "        neck = Dense(128, activation=\"relu\")(neck)\n",
        "        neck = Dropout(0.3)(in_layer)\n",
        "        neck = Dense(128, activation=\"relu\")(neck)\n",
        "        return neck\n",
        "\n",
        "\n",
        "    def build_head(name, in_layer):\n",
        "       return Dense(\n",
        "            num_units[name], activation=\"softmax\", name=f\"{name}_output\"\n",
        "       )(in_layer)\n",
        "\n",
        "    # heads\n",
        "    gender = build_head(\"gender\", build_tower(neck))\n",
        "    image_quality = build_head(\"image_quality\", build_tower(neck))\n",
        "    age = build_head(\"age\", build_tower(neck))\n",
        "    weight = build_head(\"weight\", build_tower(neck))\n",
        "    bag = build_head(\"bag\", build_tower(neck))\n",
        "    footwear = build_head(\"footwear\", build_tower(neck))\n",
        "    emotion = build_head(\"emotion\", build_tower(neck))\n",
        "    pose = build_head(\"pose\", build_tower(neck))\n",
        "\n",
        "\n",
        "    model = Model(\n",
        "        inputs=inputs, \n",
        "        outputs=[gender, image_quality, age, weight, bag, footwear, pose, emotion]\n",
        "    )\n",
        "    return model"
      ],
      "execution_count": 0,
      "outputs": []
    },
    {
      "cell_type": "code",
      "metadata": {
        "id": "jSqmkEf574OJ",
        "colab_type": "code",
        "outputId": "89d4d1e9-58f2-4468-9ba7-fe681cfe85d5",
        "colab": {
          "base_uri": "https://localhost:8080/",
          "height": 33
        }
      },
      "source": [
        "model = resnet_v1(input_shape=(224, 224, 3), depth=depth)\n",
        "\n",
        "losses = {\n",
        " \t\"gender_output\": \"binary_crossentropy\",\n",
        " \t\"image_quality_output\": \"categorical_crossentropy\",\n",
        " \t\"age_output\": \"categorical_crossentropy\",\n",
        "\t\"weight_output\": \"mean_squared_error\",\n",
        "  \"bag_output\": \"categorical_crossentropy\",\n",
        "  \"pose_output\": \"categorical_crossentropy\",\n",
        "  \"footwear_output\": \"categorical_crossentropy\",\n",
        "  \"emotion_output\": \"mean_squared_error\"\n",
        " }\n",
        "#loss_weights = {\"gender_output\": 1.0, \"image_quality_output\": 0, \"age_output\": 0, \"weight_output\":0, \"bag_output\":0, \"pose_output\":0, \"footwear_output\": 0, \"emotion_output\": 0 }\n",
        "opt = SGD(lr=0.0001, momentum=0.9)\n",
        "model.compile(\n",
        "    optimizer=opt,\n",
        "    loss=losses, \n",
        "    #loss_weights=loss_weights, \n",
        "    metrics=[\"accuracy\"]\n",
        ")\n",
        "\n",
        "\n",
        "print(model_type)\n",
        "#model.summary()\n"
      ],
      "execution_count": 83,
      "outputs": [
        {
          "output_type": "stream",
          "text": [
            "ResNet20\n"
          ],
          "name": "stdout"
        }
      ]
    },
    {
      "cell_type": "code",
      "metadata": {
        "id": "HTVybaqJolL2",
        "colab_type": "code",
        "colab": {}
      },
      "source": [
        "from keras.callbacks import *\n",
        "\n",
        "class CyclicLR(Callback):\n",
        "    \"\"\"This callback implements a cyclical learning rate policy (CLR).\n",
        "    The method cycles the learning rate between two boundaries with\n",
        "    some constant frequency, as detailed in this paper (https://arxiv.org/abs/1506.01186).\n",
        "    The amplitude of the cycle can be scaled on a per-iteration or \n",
        "    per-cycle basis.\n",
        "    This class has three built-in policies, as put forth in the paper.\n",
        "    \"triangular\":\n",
        "        A basic triangular cycle w/ no amplitude scaling.\n",
        "    \"triangular2\":\n",
        "        A basic triangular cycle that scales initial amplitude by half each cycle.\n",
        "    \"exp_range\":\n",
        "        A cycle that scales initial amplitude by gamma**(cycle iterations) at each \n",
        "        cycle iteration.\n",
        "    For more detail, please see paper.\n",
        "    \n",
        "    # Example\n",
        "        ```python\n",
        "            clr = CyclicLR(base_lr=0.001, max_lr=0.006,\n",
        "                                step_size=2000., mode='triangular')\n",
        "            model.fit(X_train, Y_train, callbacks=[clr])\n",
        "        ```\n",
        "    \n",
        "    Class also supports custom scaling functions:\n",
        "        ```python\n",
        "            clr_fn = lambda x: 0.5*(1+np.sin(x*np.pi/2.))\n",
        "            clr = CyclicLR(base_lr=0.001, max_lr=0.006,\n",
        "                                step_size=2000., scale_fn=clr_fn,\n",
        "                                scale_mode='cycle')\n",
        "            model.fit(X_train, Y_train, callbacks=[clr])\n",
        "        ```    \n",
        "    # Arguments\n",
        "        base_lr: initial learning rate which is the\n",
        "            lower boundary in the cycle.\n",
        "        max_lr: upper boundary in the cycle. Functionally,\n",
        "            it defines the cycle amplitude (max_lr - base_lr).\n",
        "            The lr at any cycle is the sum of base_lr\n",
        "            and some scaling of the amplitude; therefore \n",
        "            max_lr may not actually be reached depending on\n",
        "            scaling function.\n",
        "        step_size: number of training iterations per\n",
        "            half cycle. Authors suggest setting step_size\n",
        "            2-8 x training iterations in epoch.\n",
        "        mode: one of {triangular, triangular2, exp_range}.\n",
        "            Default 'triangular'.\n",
        "            Values correspond to policies detailed above.\n",
        "            If scale_fn is not None, this argument is ignored.\n",
        "        gamma: constant in 'exp_range' scaling function:\n",
        "            gamma**(cycle iterations)\n",
        "        scale_fn: Custom scaling policy defined by a single\n",
        "            argument lambda function, where \n",
        "            0 <= scale_fn(x) <= 1 for all x >= 0.\n",
        "            mode paramater is ignored \n",
        "        scale_mode: {'cycle', 'iterations'}.\n",
        "            Defines whether scale_fn is evaluated on \n",
        "            cycle number or cycle iterations (training\n",
        "            iterations since start of cycle). Default is 'cycle'.\n",
        "    \"\"\"\n",
        "\n",
        "    def __init__(self, base_lr=0.001, max_lr=0.006, step_size=2000., mode='triangular',\n",
        "                 gamma=1., scale_fn=None, scale_mode='cycle'):\n",
        "        super(CyclicLR, self).__init__()\n",
        "\n",
        "        self.base_lr = base_lr\n",
        "        self.max_lr = max_lr\n",
        "        self.step_size = step_size\n",
        "        self.mode = mode\n",
        "        self.gamma = gamma\n",
        "        if scale_fn == None:\n",
        "            if self.mode == 'triangular':\n",
        "                self.scale_fn = lambda x: 1.\n",
        "                self.scale_mode = 'cycle'\n",
        "            elif self.mode == 'triangular2':\n",
        "                self.scale_fn = lambda x: 1/(2.**(x-1))\n",
        "                self.scale_mode = 'cycle'\n",
        "            elif self.mode == 'exp_range':\n",
        "                self.scale_fn = lambda x: gamma**(x)\n",
        "                self.scale_mode = 'iterations'\n",
        "        else:\n",
        "            self.scale_fn = scale_fn\n",
        "            self.scale_mode = scale_mode\n",
        "        self.clr_iterations = 0.\n",
        "        self.trn_iterations = 0.\n",
        "        self.history = {}\n",
        "\n",
        "        self._reset()\n",
        "\n",
        "    def _reset(self, new_base_lr=None, new_max_lr=None,\n",
        "               new_step_size=None):\n",
        "        \"\"\"Resets cycle iterations.\n",
        "        Optional boundary/step size adjustment.\n",
        "        \"\"\"\n",
        "        if new_base_lr != None:\n",
        "            self.base_lr = new_base_lr\n",
        "        if new_max_lr != None:\n",
        "            self.max_lr = new_max_lr\n",
        "        if new_step_size != None:\n",
        "            self.step_size = new_step_size\n",
        "        self.clr_iterations = 0.\n",
        "        \n",
        "    def clr(self):\n",
        "        cycle = np.floor(1+self.clr_iterations/(2*self.step_size))\n",
        "        x = np.abs(self.clr_iterations/self.step_size - 2*cycle + 1)\n",
        "        if self.scale_mode == 'cycle':\n",
        "            return self.base_lr + (self.max_lr-self.base_lr)*np.maximum(0, (1-x))*self.scale_fn(cycle)\n",
        "        else:\n",
        "            return self.base_lr + (self.max_lr-self.base_lr)*np.maximum(0, (1-x))*self.scale_fn(self.clr_iterations)\n",
        "        \n",
        "    def on_train_begin(self, logs={}):\n",
        "        logs = logs or {}\n",
        "\n",
        "        if self.clr_iterations == 0:\n",
        "            K.set_value(self.model.optimizer.lr, self.base_lr)\n",
        "        else:\n",
        "            K.set_value(self.model.optimizer.lr, self.clr())        \n",
        "            \n",
        "    def on_batch_end(self, epoch, logs=None):\n",
        "        \n",
        "        logs = logs or {}\n",
        "        self.trn_iterations += 1\n",
        "        self.clr_iterations += 1\n",
        "\n",
        "        self.history.setdefault('lr', []).append(K.get_value(self.model.optimizer.lr))\n",
        "        self.history.setdefault('iterations', []).append(self.trn_iterations)\n",
        "\n",
        "        for k, v in logs.items():\n",
        "            self.history.setdefault(k, []).append(v)\n",
        "        \n",
        "        K.set_value(self.model.optimizer.lr, self.clr())\n"
      ],
      "execution_count": 0,
      "outputs": []
    },
    {
      "cell_type": "code",
      "metadata": {
        "id": "moG2NrFcbccZ",
        "colab_type": "code",
        "colab": {}
      },
      "source": [
        "# Prepare model model saving directory.\n",
        "save_dir = (\"gdrive/My Drive/Model\")\n",
        "model_name = \"model.h5\"\n",
        "if not os.path.isdir(save_dir):\n",
        "    os.makedirs(save_dir)\n",
        "filepath = os.path.join(save_dir, model_name)\n",
        "\n",
        "# Prepare callbacks for model saving and for learning rate adjustment.\n",
        "checkpoint = ModelCheckpoint(filepath=filepath,verbose=1)\n",
        "\n",
        "clr = CyclicLR(base_lr=0.00001, max_lr=0.001,step_size=2000., mode='triangular2')\n",
        "\n",
        "callbacks = [clr]"
      ],
      "execution_count": 0,
      "outputs": []
    },
    {
      "cell_type": "code",
      "metadata": {
        "id": "x1QOXz-OCXw8",
        "colab_type": "code",
        "colab": {}
      },
      "source": [
        "#plot_model(model, to_file='model_plot.png', show_shapes=True, show_layer_names=True)"
      ],
      "execution_count": 0,
      "outputs": []
    },
    {
      "cell_type": "code",
      "metadata": {
        "id": "Jj_dmA8w74LN",
        "colab_type": "code",
        "outputId": "6f7a2abe-24a6-4421-bdd5-d9a2b2b3f086",
        "colab": {
          "base_uri": "https://localhost:8080/",
          "height": 1000
        }
      },
      "source": [
        "model.fit_generator(\n",
        "    generator=train_gen,\n",
        "    validation_data=valid_gen,\n",
        "    use_multiprocessing=True,\n",
        "    workers=6, \n",
        "    epochs=50,\n",
        "    verbose=1,\n",
        "    callbacks=callbacks\n",
        ")"
      ],
      "execution_count": 87,
      "outputs": [
        {
          "output_type": "stream",
          "text": [
            "Epoch 1/50\n",
            "  2/360 [..............................] - ETA: 21:48 - loss: 17.0314 - gender_output_loss: 1.5038 - image_quality_output_loss: 2.0940 - age_output_loss: 4.0469 - weight_output_loss: 0.1557 - bag_output_loss: 3.4876 - footwear_output_loss: 1.9011 - pose_output_loss: 3.4341 - emotion_output_loss: 0.2509 - gender_output_acc: 0.4688 - image_quality_output_acc: 0.3281 - age_output_acc: 0.1875 - weight_output_acc: 0.6719 - bag_output_acc: 0.2969 - footwear_output_acc: 0.2188 - pose_output_acc: 0.2500 - emotion_output_acc: 0.2812"
          ],
          "name": "stdout"
        },
        {
          "output_type": "stream",
          "text": [
            "/usr/local/lib/python3.6/dist-packages/keras/callbacks.py:95: RuntimeWarning: Method (on_train_batch_end) is slow compared to the batch update (0.555352). Check your callbacks.\n",
            "  % (hook_name, delta_t_median), RuntimeWarning)\n"
          ],
          "name": "stderr"
        },
        {
          "output_type": "stream",
          "text": [
            "359/360 [============================>.] - ETA: 0s - loss: 7.2227 - gender_output_loss: 0.7583 - image_quality_output_loss: 1.1215 - age_output_loss: 1.6511 - weight_output_loss: 0.1494 - bag_output_loss: 1.0590 - footwear_output_loss: 1.0839 - pose_output_loss: 1.0975 - emotion_output_loss: 0.1447 - gender_output_acc: 0.5489 - image_quality_output_acc: 0.4942 - age_output_acc: 0.3359 - weight_output_acc: 0.6263 - bag_output_acc: 0.5078 - footwear_output_acc: 0.4882 - pose_output_acc: 0.5636 - emotion_output_acc: 0.6218\n",
            "360/360 [==============================] - 105s 291ms/step - loss: 7.2205 - gender_output_loss: 0.7582 - image_quality_output_loss: 1.1213 - age_output_loss: 1.6499 - weight_output_loss: 0.1493 - bag_output_loss: 1.0586 - footwear_output_loss: 1.0840 - pose_output_loss: 1.0973 - emotion_output_loss: 0.1446 - gender_output_acc: 0.5487 - image_quality_output_acc: 0.4942 - age_output_acc: 0.3365 - weight_output_acc: 0.6264 - bag_output_acc: 0.5076 - footwear_output_acc: 0.4882 - pose_output_acc: 0.5636 - emotion_output_acc: 0.6220 - val_loss: 6.3658 - val_gender_output_loss: 0.6794 - val_image_quality_output_loss: 0.9505 - val_age_output_loss: 1.4365 - val_weight_output_loss: 0.1379 - val_bag_output_loss: 0.9749 - val_footwear_output_loss: 0.9595 - val_pose_output_loss: 0.9535 - val_emotion_output_loss: 0.1163 - val_gender_output_acc: 0.5809 - val_image_quality_output_acc: 0.5774 - val_age_output_acc: 0.4048 - val_weight_output_acc: 0.6260 - val_bag_output_acc: 0.4350 - val_footwear_output_acc: 0.5402 - val_pose_output_acc: 0.6012 - val_emotion_output_acc: 0.7242\n",
            "Epoch 2/50\n",
            "359/360 [============================>.] - ETA: 0s - loss: 6.3527 - gender_output_loss: 0.6788 - image_quality_output_loss: 0.9790 - age_output_loss: 1.4551 - weight_output_loss: 0.1385 - bag_output_loss: 0.9296 - footwear_output_loss: 0.9528 - pose_output_loss: 0.9385 - emotion_output_loss: 0.1232 - gender_output_acc: 0.5718 - image_quality_output_acc: 0.5406 - age_output_acc: 0.3687 - weight_output_acc: 0.6282 - bag_output_acc: 0.5504 - footwear_output_acc: 0.5568 - pose_output_acc: 0.6155 - emotion_output_acc: 0.7060\b\b\b\b\b\b\b\b\b\b\b\b\b\b\b\b\b\b\b\b\b\b\b\b\b\b\b\b\b\b\b\b\b\b\b\b\b\b\b\b\b\b\b\b\b\b\b\b\b\b\b\b\b\b\b\b\b\b\b\b\b\b\b\b\b\b\b\b\b\b\b\b\b\b\b\b\b\b\b\b\b\b\b\b\b\b\b\b\b\b\b\b\b\b\b\b\b\b\b\b\b\b\b\b\b\b\b\b\b\b\b\b\b\b\b\b\b\b\b\b\b\b\b\b\b\b\b\b\b\b\b\b\b\b\b\b\b\b\b\b\b\b\b\b\b\b\b\b\b\b\b\b\b\b\b\b\b\b\b\b\b\b\b\b\b\b\b\b\b\b\b\b\b\b\b\b\b\b\b\b\b\b\b\b\b\b\b\b\b\b\b\b\b\b\b\b\b\b\b\b\b\b\b\b\b\b\b\b\b\b\b\b\b\b\b\b\b\b\b\b\b\b\b\b\b\b\b\b\b\b\b\b\b\b\b\b\b\b\b\b\b\b\b\b\b\b\b\b\b\b\b\b\b\b\b\b\b\b\b\b\b\b\b\b\b\b\b\b\b\b\b\b\b\b\b\b\b\b\b\b\b\b\b\b\b\b\b\b\b\b\b\b\b\b\b\b\b\b\b\b\b\b\b\b\b\b\b\b\b\b\b\b\b\b\b\b\b\b\b\b\b\b\b\b\b\b\b\b\b\b\b\b\b\b\b\b\b\b\b\b\b\b\b\b\b\b\b\b\b\b\b\b\b\b\b\b\b\b\b\b\b\b\b\b\b\b\b\b\b\b\b\b\b\b\b\b\b\b\b\b\b\b\b\b\b\b\b\b\b\b\b\b\b\b\b\b\b\b\b\b\b\b\b\b\b\b\b\b\b\b\b\b\b\b\b\b\b\b\b\b\b\b\b\b\b\b\b\b\b\b\b\b\b\b\b\b\b\b\b\b\b\b\b\b\b\b\b\b\b\b\b\b\b\b\b\b\b\b\b\b\b\b\b\b\b\b\b\b\b\b\b\b\b\b\b\b\b\b\b\b\b\b\b\b\b\b\b\b\b\b\b\b\b\b\b\b\b\b\b\b\b\b\b\b\b\b\b\b\b\b\b\b\b\b\b\b\b\b\b\b\b\b\b\b\b\n",
            "360/360 [==============================] - 96s 267ms/step - loss: 6.3525 - gender_output_loss: 0.6787 - image_quality_output_loss: 0.9790 - age_output_loss: 1.4552 - weight_output_loss: 0.1384 - bag_output_loss: 0.9295 - footwear_output_loss: 0.9528 - pose_output_loss: 0.9385 - emotion_output_loss: 0.1231 - gender_output_acc: 0.5720 - image_quality_output_acc: 0.5406 - age_output_acc: 0.3688 - weight_output_acc: 0.6286 - bag_output_acc: 0.5504 - footwear_output_acc: 0.5566 - pose_output_acc: 0.6155 - emotion_output_acc: 0.7063 - val_loss: 6.2247 - val_gender_output_loss: 0.6556 - val_image_quality_output_loss: 0.9458 - val_age_output_loss: 1.4207 - val_weight_output_loss: 0.1352 - val_bag_output_loss: 0.9304 - val_footwear_output_loss: 0.9207 - val_pose_output_loss: 0.9460 - val_emotion_output_loss: 0.1131 - val_gender_output_acc: 0.5878 - val_image_quality_output_acc: 0.5769 - val_age_output_acc: 0.4117 - val_weight_output_acc: 0.6295 - val_bag_output_acc: 0.5685 - val_footwear_output_acc: 0.5704 - val_pose_output_acc: 0.6012 - val_emotion_output_acc: 0.7242\n",
            "Epoch 3/50\n",
            "360/360 [==============================] - 96s 267ms/step - loss: 6.3525 - gender_output_loss: 0.6787 - image_quality_output_loss: 0.9790 - age_output_loss: 1.4552 - weight_output_loss: 0.1384 - bag_output_loss: 0.9295 - footwear_output_loss: 0.9528 - pose_output_loss: 0.9385 - emotion_output_loss: 0.1231 - gender_output_acc: 0.5720 - image_quality_output_acc: 0.5406 - age_output_acc: 0.3688 - weight_output_acc: 0.6286 - bag_output_acc: 0.5504 - footwear_output_acc: 0.5566 - pose_output_acc: 0.6155 - emotion_output_acc: 0.7063 - val_loss: 6.2247 - val_gender_output_loss: 0.6556 - val_image_quality_output_loss: 0.9458 - val_age_output_loss: 1.4207 - val_weight_output_loss: 0.1352 - val_bag_output_loss: 0.9304 - val_footwear_output_loss: 0.9207 - val_pose_output_loss: 0.9460 - val_emotion_output_loss: 0.1131 - val_gender_output_acc: 0.5878 - val_image_quality_output_acc: 0.5769 - val_age_output_acc: 0.4117 - val_weight_output_acc: 0.6295 - val_bag_output_acc: 0.5685 - val_footwear_output_acc: 0.5704 - val_pose_output_acc: 0.6012 - val_emotion_output_acc: 0.7242\n",
            "360/360 [==============================] - 96s 268ms/step - loss: 6.2823 - gender_output_loss: 0.6665 - image_quality_output_loss: 0.9666 - age_output_loss: 1.4443 - weight_output_loss: 0.1367 - bag_output_loss: 0.9224 - footwear_output_loss: 0.9339 - pose_output_loss: 0.9315 - emotion_output_loss: 0.1233 - gender_output_acc: 0.5895 - image_quality_output_acc: 0.5423 - age_output_acc: 0.3808 - weight_output_acc: 0.6333 - bag_output_acc: 0.5523 - footwear_output_acc: 0.5704 - pose_output_acc: 0.6170 - emotion_output_acc: 0.7066 - val_loss: 6.1960 - val_gender_output_loss: 0.6444 - val_image_quality_output_loss: 0.9263 - val_age_output_loss: 1.4337 - val_weight_output_loss: 0.1396 - val_bag_output_loss: 0.9265 - val_footwear_output_loss: 0.9196 - val_pose_output_loss: 0.9342 - val_emotion_output_loss: 0.1145 - val_gender_output_acc: 0.6066 - val_image_quality_output_acc: 0.5655 - val_age_output_acc: 0.3988 - val_weight_output_acc: 0.6295 - val_bag_output_acc: 0.5645 - val_footwear_output_acc: 0.5794 - val_pose_output_acc: 0.6017 - val_emotion_output_acc: 0.7242\n",
            "Epoch 4/50\n",
            "360/360 [==============================] - 96s 266ms/step - loss: 6.2204 - gender_output_loss: 0.6521 - image_quality_output_loss: 0.9510 - age_output_loss: 1.4367 - weight_output_loss: 0.1364 - bag_output_loss: 0.9183 - footwear_output_loss: 0.9256 - pose_output_loss: 0.9210 - emotion_output_loss: 0.1223 - gender_output_acc: 0.5999 - image_quality_output_acc: 0.5443 - age_output_acc: 0.3851 - weight_output_acc: 0.6343 - bag_output_acc: 0.5523 - footwear_output_acc: 0.5770 - pose_output_acc: 0.6194 - emotion_output_acc: 0.7079 - val_loss: 6.0805 - val_gender_output_loss: 0.6293 - val_image_quality_output_loss: 0.9101 - val_age_output_loss: 1.4061 - val_weight_output_loss: 0.1340 - val_bag_output_loss: 0.9220 - val_footwear_output_loss: 0.8853 - val_pose_output_loss: 0.9223 - val_emotion_output_loss: 0.1143 - val_gender_output_acc: 0.6394 - val_image_quality_output_acc: 0.5809 - val_age_output_acc: 0.4087 - val_weight_output_acc: 0.6300 - val_bag_output_acc: 0.5620 - val_footwear_output_acc: 0.5952 - val_pose_output_acc: 0.6012 - val_emotion_output_acc: 0.7242\n",
            "Epoch 5/50\n",
            "359/360 [============================>.] - ETA: 0s - loss: 6.1409 - gender_output_loss: 0.6332 - image_quality_output_loss: 0.9427 - age_output_loss: 1.4327 - weight_output_loss: 0.1356 - bag_output_loss: 0.9117 - footwear_output_loss: 0.9025 - pose_output_loss: 0.9031 - emotion_output_loss: 0.1225 - gender_output_acc: 0.6327 - image_quality_output_acc: 0.5450 - age_output_acc: 0.3862 - weight_output_acc: 0.6353 - bag_output_acc: 0.5595 - footwear_output_acc: 0.5905 - pose_output_acc: 0.6205 - emotion_output_acc: 0.7081\b\b\b\b\b\b\b\b\b\b\b\b\b\b\b\b\b\b\b\b\b\b\b\b\b\b\b\b\b\b\b\b\b\b\b\b\b\b\b\b\b\b\b\b\b\b\b\b\b\b\b\b\b\b\b\b\b\b\b\b\b\b\b\b\b\b\b\b\b\b\b\b\b\b\b\b\b\b\b\b\b\b\b\b\b\b\b\b\b\b\b\b\b\b\b\b\b\b\b\b\b\b\b\b\b\b\b\b\b\b\b\b\b\b\b\b\b\b\b\b\b\b\b\b\b\b\b\b\b\b\b\b\b\b\b\b\b\b\b\b\b\b\b\b\b\b\b\b\b\b\b\b\b\b\b\b\b\b\b\b\b\b\b\b\b\b\b\b\b\b\b\b\b\b\b\b\b\b\b\b\b\b\b\b\b\b\b\b\b\b\b\b\b\b\b\b\b\b\b\b\b\b\b\b\b\b\b\b\b\b\b\b\b\b\b\b\b\b\b\b\b\b\b\b\b\b\b\b\b\b\b\b\b\b\b\b\b\b\b\b\b\b\b\b\b\b\b\b\b\b\b\b\b\b\b\b\b\b\b\b\b\b\b\b\b\b\b\b\b\b\b\b\b\b\b\b\b\b\b\b\b\b\b\b\b\b\b\b\b\b\b\b\b\b\b\b\b\b\b\b\b\b\b\b\b\b\b\b\b\b\b\b\b\b\b\b\b\b\b\b\b\b\b\b\b\b\b\b\b\b\b\b\b\b\b\b\b\b\b\b\b\b\b\b\b\b\b\b\b\b\b\b\b\b\b\b\b\b\b\b\b\b\b\b\b\b\b\b\b\b\b\b\b\b\b\b\b\b\b\b\b\b\b\b\b\b\b\b\b\b\b\b\b\b\b\b\b\b\b\b\b\b\b\b\b\b\b\b\b\b\b\b\b\b\b\b\b\b\b\b\b\b\b\b\b\b\b\b\b\b\b\b\b\b\b\b\b\b\b\b\b\b\b\b\b\b\b\b\b\b\b\b\b\b\b\b\b\b\b\b\b\b\b\b\b\b\b\b\b\b\b\b\b\b\b\b\b\b\b\b\b\b\b\b\b\b\b\b\b\b\b\b\b\b\b\b\b\b\b\b\b\b\b\b\b\b\b\b\b\b\b\b\b\b\b\b\b\b\b\b\b\b\b\b\bEpoch 5/50\n",
            "360/360 [==============================] - 96s 268ms/step - loss: 6.1405 - gender_output_loss: 0.6332 - image_quality_output_loss: 0.9429 - age_output_loss: 1.4324 - weight_output_loss: 0.1357 - bag_output_loss: 0.9114 - footwear_output_loss: 0.9023 - pose_output_loss: 0.9035 - emotion_output_loss: 0.1224 - gender_output_acc: 0.6327 - image_quality_output_acc: 0.5449 - age_output_acc: 0.3865 - weight_output_acc: 0.6350 - bag_output_acc: 0.5602 - footwear_output_acc: 0.5904 - pose_output_acc: 0.6201 - emotion_output_acc: 0.7082 - val_loss: 6.0764 - val_gender_output_loss: 0.6110 - val_image_quality_output_loss: 0.9256 - val_age_output_loss: 1.4121 - val_weight_output_loss: 0.1351 - val_bag_output_loss: 0.9139 - val_footwear_output_loss: 0.8925 - val_pose_output_loss: 0.9150 - val_emotion_output_loss: 0.1145 - val_gender_output_acc: 0.6493 - val_image_quality_output_acc: 0.5794 - val_age_output_acc: 0.4112 - val_weight_output_acc: 0.6250 - val_bag_output_acc: 0.5744 - val_footwear_output_acc: 0.5972 - val_pose_output_acc: 0.6012 - val_emotion_output_acc: 0.7242\n",
            "Epoch 6/50\n",
            "359/360 [============================>.] - ETA: 0s - loss: 6.0739 - gender_output_loss: 0.6194 - image_quality_output_loss: 0.9296 - age_output_loss: 1.4254 - weight_output_loss: 0.1366 - bag_output_loss: 0.9061 - footwear_output_loss: 0.8978 - pose_output_loss: 0.8799 - emotion_output_loss: 0.1224 - gender_output_acc: 0.6492 - image_quality_output_acc: 0.5487 - age_output_acc: 0.3910 - weight_output_acc: 0.6335 - bag_output_acc: 0.5638 - footwear_output_acc: 0.5893 - pose_output_acc: 0.6221 - emotion_output_acc: 0.7075Epoch 6/50\n",
            "360/360 [==============================] - 97s 268ms/step - loss: 6.0729 - gender_output_loss: 0.6194 - image_quality_output_loss: 0.9297 - age_output_loss: 1.4250 - weight_output_loss: 0.1366 - bag_output_loss: 0.9068 - footwear_output_loss: 0.8971 - pose_output_loss: 0.8794 - emotion_output_loss: 0.1223 - gender_output_acc: 0.6492 - image_quality_output_acc: 0.5490 - age_output_acc: 0.3912 - weight_output_acc: 0.6338 - bag_output_acc: 0.5636 - footwear_output_acc: 0.5899 - pose_output_acc: 0.6224 - emotion_output_acc: 0.7079 - val_loss: 5.9449 - val_gender_output_loss: 0.6007 - val_image_quality_output_loss: 0.8975 - val_age_output_loss: 1.4035 - val_weight_output_loss: 0.1341 - val_bag_output_loss: 0.9135 - val_footwear_output_loss: 0.8686 - val_pose_output_loss: 0.8563 - val_emotion_output_loss: 0.1142 - val_gender_output_acc: 0.6627 - val_image_quality_output_acc: 0.5888 - val_age_output_acc: 0.4072 - val_weight_output_acc: 0.6300 - val_bag_output_acc: 0.5734 - val_footwear_output_acc: 0.6047 - val_pose_output_acc: 0.6121 - val_emotion_output_acc: 0.7242\n",
            "Epoch 7/50\n",
            "359/360 [============================>.] - ETA: 0s - loss: 5.9845 - gender_output_loss: 0.6022 - image_quality_output_loss: 0.9247 - age_output_loss: 1.4155 - weight_output_loss: 0.1354 - bag_output_loss: 0.8984 - footwear_output_loss: 0.8818 - pose_output_loss: 0.8482 - emotion_output_loss: 0.1218 - gender_output_acc: 0.6677 - image_quality_output_acc: 0.5525 - age_output_acc: 0.3905 - weight_output_acc: 0.6361 - bag_output_acc: 0.5667 - footwear_output_acc: 0.6035 - pose_output_acc: 0.6309 - emotion_output_acc: 0.7084Epoch 7/50\n",
            "360/360 [==============================] - 96s 267ms/step - loss: 5.9844 - gender_output_loss: 0.6022 - image_quality_output_loss: 0.9247 - age_output_loss: 1.4153 - weight_output_loss: 0.1354 - bag_output_loss: 0.8988 - footwear_output_loss: 0.8821 - pose_output_loss: 0.8478 - emotion_output_loss: 0.1218 - gender_output_acc: 0.6676 - image_quality_output_acc: 0.5524 - age_output_acc: 0.3905 - weight_output_acc: 0.6360 - bag_output_acc: 0.5662 - footwear_output_acc: 0.6033 - pose_output_acc: 0.6311 - emotion_output_acc: 0.7087 - val_loss: 5.8783 - val_gender_output_loss: 0.5754 - val_image_quality_output_loss: 0.9104 - val_age_output_loss: 1.4010 - val_weight_output_loss: 0.1334 - val_bag_output_loss: 0.9099 - val_footwear_output_loss: 0.8649 - val_pose_output_loss: 0.8120 - val_emotion_output_loss: 0.1150 - val_gender_output_acc: 0.6949 - val_image_quality_output_acc: 0.5898 - val_age_output_acc: 0.4152 - val_weight_output_acc: 0.6290 - val_bag_output_acc: 0.5794 - val_footwear_output_acc: 0.6027 - val_pose_output_acc: 0.6280 - val_emotion_output_acc: 0.7242\n",
            "Epoch 8/50\n",
            "360/360 [==============================] - 97s 270ms/step - loss: 5.8966 - gender_output_loss: 0.5880 - image_quality_output_loss: 0.9171 - age_output_loss: 1.4077 - weight_output_loss: 0.1350 - bag_output_loss: 0.8900 - footwear_output_loss: 0.8668 - pose_output_loss: 0.8151 - emotion_output_loss: 0.1206 - gender_output_acc: 0.6788 - image_quality_output_acc: 0.5510 - age_output_acc: 0.3950 - weight_output_acc: 0.6345 - bag_output_acc: 0.5766 - footwear_output_acc: 0.6100 - pose_output_acc: 0.6446 - emotion_output_acc: 0.7093 - val_loss: 5.8446 - val_gender_output_loss: 0.6080 - val_image_quality_output_loss: 0.8989 - val_age_output_loss: 1.3993 - val_weight_output_loss: 0.1350 - val_bag_output_loss: 0.8918 - val_footwear_output_loss: 0.8519 - val_pose_output_loss: 0.7876 - val_emotion_output_loss: 0.1159 - val_gender_output_acc: 0.6558 - val_image_quality_output_acc: 0.5828 - val_age_output_acc: 0.4092 - val_weight_output_acc: 0.6300 - val_bag_output_acc: 0.5799 - val_footwear_output_acc: 0.6086 - val_pose_output_acc: 0.6443 - val_emotion_output_acc: 0.7237\n",
            "Epoch 9/50\n",
            "360/360 [==============================] - 96s 268ms/step - loss: 5.8084 - gender_output_loss: 0.5703 - image_quality_output_loss: 0.9113 - age_output_loss: 1.3984 - weight_output_loss: 0.1344 - bag_output_loss: 0.8817 - footwear_output_loss: 0.8538 - pose_output_loss: 0.7825 - emotion_output_loss: 0.1197 - gender_output_acc: 0.6990 - image_quality_output_acc: 0.5577 - age_output_acc: 0.3985 - weight_output_acc: 0.6362 - bag_output_acc: 0.5844 - footwear_output_acc: 0.6140 - pose_output_acc: 0.6545 - emotion_output_acc: 0.7085 - val_loss: 5.7818 - val_gender_output_loss: 0.5666 - val_image_quality_output_loss: 0.9107 - val_age_output_loss: 1.3916 - val_weight_output_loss: 0.1328 - val_bag_output_loss: 0.8998 - val_footwear_output_loss: 0.8430 - val_pose_output_loss: 0.7684 - val_emotion_output_loss: 0.1128 - val_gender_output_acc: 0.7014 - val_image_quality_output_acc: 0.5804 - val_age_output_acc: 0.4142 - val_weight_output_acc: 0.6250 - val_bag_output_acc: 0.5878 - val_footwear_output_acc: 0.6240 - val_pose_output_acc: 0.6582 - val_emotion_output_acc: 0.7242\n",
            "Epoch 10/50\n",
            "360/360 [==============================] - 96s 268ms/step - loss: 5.7509 - gender_output_loss: 0.5512 - image_quality_output_loss: 0.9091 - age_output_loss: 1.3946 - weight_output_loss: 0.1341 - bag_output_loss: 0.8791 - footwear_output_loss: 0.8432 - pose_output_loss: 0.7642 - emotion_output_loss: 0.1193 - gender_output_acc: 0.7118 - image_quality_output_acc: 0.5521 - age_output_acc: 0.3990 - weight_output_acc: 0.6339 - bag_output_acc: 0.5829 - footwear_output_acc: 0.6174 - pose_output_acc: 0.6655 - emotion_output_acc: 0.7093 - val_loss: 5.7273 - val_gender_output_loss: 0.5542 - val_image_quality_output_loss: 0.8923 - val_age_output_loss: 1.3911 - val_weight_output_loss: 0.1333 - val_bag_output_loss: 0.8916 - val_footwear_output_loss: 0.8322 - val_pose_output_loss: 0.7646 - val_emotion_output_loss: 0.1120 - val_gender_output_acc: 0.7078 - val_image_quality_output_acc: 0.5883 - val_age_output_acc: 0.4087 - val_weight_output_acc: 0.6275 - val_bag_output_acc: 0.5789 - val_footwear_output_acc: 0.6205 - val_pose_output_acc: 0.6652 - val_emotion_output_acc: 0.7242\n",
            "Epoch 11/50\n",
            "360/360 [==============================] - 97s 269ms/step - loss: 5.6867 - gender_output_loss: 0.5400 - image_quality_output_loss: 0.9013 - age_output_loss: 1.3863 - weight_output_loss: 0.1341 - bag_output_loss: 0.8732 - footwear_output_loss: 0.8307 - pose_output_loss: 0.7468 - emotion_output_loss: 0.1182 - gender_output_acc: 0.7230 - image_quality_output_acc: 0.5624 - age_output_acc: 0.4000 - weight_output_acc: 0.6345 - bag_output_acc: 0.5908 - footwear_output_acc: 0.6299 - pose_output_acc: 0.6760 - emotion_output_acc: 0.7091 - val_loss: 5.6533 - val_gender_output_loss: 0.5318 - val_image_quality_output_loss: 0.8932 - val_age_output_loss: 1.3862 - val_weight_output_loss: 0.1328 - val_bag_output_loss: 0.8848 - val_footwear_output_loss: 0.8249 - val_pose_output_loss: 0.7318 - val_emotion_output_loss: 0.1119 - val_gender_output_acc: 0.7307 - val_image_quality_output_acc: 0.5893 - val_age_output_acc: 0.4072 - val_weight_output_acc: 0.6324 - val_bag_output_acc: 0.5868 - val_footwear_output_acc: 0.6329 - val_pose_output_acc: 0.6860 - val_emotion_output_acc: 0.7242\n",
            "Epoch 11/50\n",
            "Epoch 12/50\n",
            "360/360 [==============================] - 96s 268ms/step - loss: 5.6748 - gender_output_loss: 0.5404 - image_quality_output_loss: 0.9026 - age_output_loss: 1.3865 - weight_output_loss: 0.1338 - bag_output_loss: 0.8699 - footwear_output_loss: 0.8308 - pose_output_loss: 0.7368 - emotion_output_loss: 0.1180 - gender_output_acc: 0.7222 - image_quality_output_acc: 0.5610 - age_output_acc: 0.4024 - weight_output_acc: 0.6359 - bag_output_acc: 0.5865 - footwear_output_acc: 0.6291 - pose_output_acc: 0.6833 - emotion_output_acc: 0.7095 - val_loss: 5.6540 - val_gender_output_loss: 0.5317 - val_image_quality_output_loss: 0.8933 - val_age_output_loss: 1.3856 - val_weight_output_loss: 0.1329 - val_bag_output_loss: 0.8858 - val_footwear_output_loss: 0.8241 - val_pose_output_loss: 0.7327 - val_emotion_output_loss: 0.1117 - val_gender_output_acc: 0.7292 - val_image_quality_output_acc: 0.5863 - val_age_output_acc: 0.4107 - val_weight_output_acc: 0.6319 - val_bag_output_acc: 0.5933 - val_footwear_output_acc: 0.6295 - val_pose_output_acc: 0.6855 - val_emotion_output_acc: 0.7242\n",
            "Epoch 12/50\n",
            "Epoch 13/50\n",
            "360/360 [==============================] - 96s 268ms/step - loss: 5.6764 - gender_output_loss: 0.5379 - image_quality_output_loss: 0.9037 - age_output_loss: 1.3848 - weight_output_loss: 0.1338 - bag_output_loss: 0.8700 - footwear_output_loss: 0.8351 - pose_output_loss: 0.7369 - emotion_output_loss: 0.1182 - gender_output_acc: 0.7194 - image_quality_output_acc: 0.5617 - age_output_acc: 0.4016 - weight_output_acc: 0.6339 - bag_output_acc: 0.5933 - footwear_output_acc: 0.6255 - pose_output_acc: 0.6823 - emotion_output_acc: 0.7093 - val_loss: 5.6566 - val_gender_output_loss: 0.5314 - val_image_quality_output_loss: 0.8942 - val_age_output_loss: 1.3852 - val_weight_output_loss: 0.1330 - val_bag_output_loss: 0.8819 - val_footwear_output_loss: 0.8241 - val_pose_output_loss: 0.7393 - val_emotion_output_loss: 0.1117 - val_gender_output_acc: 0.7212 - val_image_quality_output_acc: 0.5833 - val_age_output_acc: 0.4077 - val_weight_output_acc: 0.6310 - val_bag_output_acc: 0.5883 - val_footwear_output_acc: 0.6230 - val_pose_output_acc: 0.6701 - val_emotion_output_acc: 0.7242\n",
            "Epoch 13/50\n",
            "Epoch 14/50\n",
            "359/360 [============================>.] - ETA: 0s - loss: 5.6660 - gender_output_loss: 0.5379 - image_quality_output_loss: 0.9001 - age_output_loss: 1.3879 - weight_output_loss: 0.1336 - bag_output_loss: 0.8696 - footwear_output_loss: 0.8295 - pose_output_loss: 0.7334 - emotion_output_loss: 0.1180 - gender_output_acc: 0.7228 - image_quality_output_acc: 0.5602 - age_output_acc: 0.4025 - weight_output_acc: 0.6342 - bag_output_acc: 0.5940 - footwear_output_acc: 0.6274 - pose_output_acc: 0.6844 - emotion_output_acc: 0.7087Epoch 14/50\n",
            "360/360 [==============================] - 96s 268ms/step - loss: 5.6648 - gender_output_loss: 0.5380 - image_quality_output_loss: 0.8998 - age_output_loss: 1.3877 - weight_output_loss: 0.1335 - bag_output_loss: 0.8697 - footwear_output_loss: 0.8291 - pose_output_loss: 0.7332 - emotion_output_loss: 0.1178 - gender_output_acc: 0.7229 - image_quality_output_acc: 0.5603 - age_output_acc: 0.4024 - weight_output_acc: 0.6345 - bag_output_acc: 0.5941 - footwear_output_acc: 0.6276 - pose_output_acc: 0.6846 - emotion_output_acc: 0.7090 - val_loss: 5.6665 - val_gender_output_loss: 0.5290 - val_image_quality_output_loss: 0.9052 - val_age_output_loss: 1.3836 - val_weight_output_loss: 0.1330 - val_bag_output_loss: 0.8919 - val_footwear_output_loss: 0.8291 - val_pose_output_loss: 0.7267 - val_emotion_output_loss: 0.1120 - val_gender_output_acc: 0.7272 - val_image_quality_output_acc: 0.5789 - val_age_output_acc: 0.4087 - val_weight_output_acc: 0.6275 - val_bag_output_acc: 0.5908 - val_footwear_output_acc: 0.6285 - val_pose_output_acc: 0.6801 - val_emotion_output_acc: 0.7242\n",
            "Epoch 15/50\n",
            "360/360 [==============================] - 96s 268ms/step - loss: 5.6657 - gender_output_loss: 0.5379 - image_quality_output_loss: 0.9032 - age_output_loss: 1.3833 - weight_output_loss: 0.1340 - bag_output_loss: 0.8732 - footwear_output_loss: 0.8322 - pose_output_loss: 0.7278 - emotion_output_loss: 0.1182 - gender_output_acc: 0.7208 - image_quality_output_acc: 0.5652 - age_output_acc: 0.4008 - weight_output_acc: 0.6362 - bag_output_acc: 0.5897 - footwear_output_acc: 0.6287 - pose_output_acc: 0.6867 - emotion_output_acc: 0.7094 - val_loss: 5.6303 - val_gender_output_loss: 0.5235 - val_image_quality_output_loss: 0.8930 - val_age_output_loss: 1.3842 - val_weight_output_loss: 0.1328 - val_bag_output_loss: 0.8853 - val_footwear_output_loss: 0.8297 - val_pose_output_loss: 0.7144 - val_emotion_output_loss: 0.1116 - val_gender_output_acc: 0.7316 - val_image_quality_output_acc: 0.5858 - val_age_output_acc: 0.4132 - val_weight_output_acc: 0.6305 - val_bag_output_acc: 0.5853 - val_footwear_output_acc: 0.6319 - val_pose_output_acc: 0.6994 - val_emotion_output_acc: 0.7242\n",
            "\n",
            "Epoch 16/50\n",
            "360/360 [==============================] - 97s 269ms/step - loss: 5.6589 - gender_output_loss: 0.5329 - image_quality_output_loss: 0.9044 - age_output_loss: 1.3870 - weight_output_loss: 0.1339 - bag_output_loss: 0.8698 - footwear_output_loss: 0.8325 - pose_output_loss: 0.7244 - emotion_output_loss: 0.1182 - gender_output_acc: 0.7286 - image_quality_output_acc: 0.5618 - age_output_acc: 0.4006 - weight_output_acc: 0.6347 - bag_output_acc: 0.5865 - footwear_output_acc: 0.6261 - pose_output_acc: 0.6852 - emotion_output_acc: 0.7088 - val_loss: 5.6854 - val_gender_output_loss: 0.5428 - val_image_quality_output_loss: 0.9121 - val_age_output_loss: 1.3884 - val_weight_output_loss: 0.1336 - val_bag_output_loss: 0.8851 - val_footwear_output_loss: 0.8351 - val_pose_output_loss: 0.7207 - val_emotion_output_loss: 0.1116 - val_gender_output_acc: 0.7242 - val_image_quality_output_acc: 0.5794 - val_age_output_acc: 0.4117 - val_weight_output_acc: 0.6310 - val_bag_output_acc: 0.5818 - val_footwear_output_acc: 0.6240 - val_pose_output_acc: 0.6895 - val_emotion_output_acc: 0.7242\n",
            "Epoch 17/50\n",
            "360/360 [==============================] - 96s 266ms/step - loss: 5.6529 - gender_output_loss: 0.5334 - image_quality_output_loss: 0.9040 - age_output_loss: 1.3864 - weight_output_loss: 0.1340 - bag_output_loss: 0.8713 - footwear_output_loss: 0.8287 - pose_output_loss: 0.7210 - emotion_output_loss: 0.1182 - gender_output_acc: 0.7293 - image_quality_output_acc: 0.5619 - age_output_acc: 0.3995 - weight_output_acc: 0.6353 - bag_output_acc: 0.5911 - footwear_output_acc: 0.6298 - pose_output_acc: 0.6868 - emotion_output_acc: 0.7092 - val_loss: 5.6580 - val_gender_output_loss: 0.5313 - val_image_quality_output_loss: 0.9131 - val_age_output_loss: 1.3895 - val_weight_output_loss: 0.1350 - val_bag_output_loss: 0.8835 - val_footwear_output_loss: 0.8187 - val_pose_output_loss: 0.7177 - val_emotion_output_loss: 0.1135 - val_gender_output_acc: 0.7262 - val_image_quality_output_acc: 0.5660 - val_age_output_acc: 0.4062 - val_weight_output_acc: 0.6265 - val_bag_output_acc: 0.5903 - val_footwear_output_acc: 0.6364 - val_pose_output_acc: 0.6875 - val_emotion_output_acc: 0.7242\n",
            "Epoch 18/50\n",
            "360/360 [==============================] - 96s 266ms/step - loss: 5.6116 - gender_output_loss: 0.5201 - image_quality_output_loss: 0.9022 - age_output_loss: 1.3824 - weight_output_loss: 0.1338 - bag_output_loss: 0.8660 - footwear_output_loss: 0.8242 - pose_output_loss: 0.7097 - emotion_output_loss: 0.1176 - gender_output_acc: 0.7347 - image_quality_output_acc: 0.5635 - age_output_acc: 0.3985 - weight_output_acc: 0.6346 - bag_output_acc: 0.5922 - footwear_output_acc: 0.6297 - pose_output_acc: 0.6889 - emotion_output_acc: 0.7089 - val_loss: 5.6292 - val_gender_output_loss: 0.5111 - val_image_quality_output_loss: 0.8994 - val_age_output_loss: 1.3876 - val_weight_output_loss: 0.1335 - val_bag_output_loss: 0.8915 - val_footwear_output_loss: 0.8261 - val_pose_output_loss: 0.7126 - val_emotion_output_loss: 0.1118 - val_gender_output_acc: 0.7455 - val_image_quality_output_acc: 0.5913 - val_age_output_acc: 0.4077 - val_weight_output_acc: 0.6295 - val_bag_output_acc: 0.5863 - val_footwear_output_acc: 0.6290 - val_pose_output_acc: 0.6959 - val_emotion_output_acc: 0.7242\n",
            "Epoch 19/50\n",
            "359/360 [============================>.] - ETA: 0s - loss: 5.5649 - gender_output_loss: 0.5082 - image_quality_output_loss: 0.8996 - age_output_loss: 1.3783 - weight_output_loss: 0.1334 - bag_output_loss: 0.8643 - footwear_output_loss: 0.8197 - pose_output_loss: 0.6884 - emotion_output_loss: 0.1175 - gender_output_acc: 0.7442 - image_quality_output_acc: 0.5597 - age_output_acc: 0.4029 - weight_output_acc: 0.6367 - bag_output_acc: 0.5965 - footwear_output_acc: 0.6301 - pose_output_acc: 0.7053 - emotion_output_acc: 0.7089Epoch 19/50\n",
            "360/360 [==============================] - 95s 265ms/step - loss: 5.5642 - gender_output_loss: 0.5084 - image_quality_output_loss: 0.8995 - age_output_loss: 1.3777 - weight_output_loss: 0.1333 - bag_output_loss: 0.8643 - footwear_output_loss: 0.8195 - pose_output_loss: 0.6886 - emotion_output_loss: 0.1174 - gender_output_acc: 0.7443 - image_quality_output_acc: 0.5597 - age_output_acc: 0.4032 - weight_output_acc: 0.6367 - bag_output_acc: 0.5964 - footwear_output_acc: 0.6303 - pose_output_acc: 0.7050 - emotion_output_acc: 0.7091 - val_loss: 5.6046 - val_gender_output_loss: 0.5038 - val_image_quality_output_loss: 0.9184 - val_age_output_loss: 1.3777 - val_weight_output_loss: 0.1331 - val_bag_output_loss: 0.8867 - val_footwear_output_loss: 0.8224 - val_pose_output_loss: 0.6952 - val_emotion_output_loss: 0.1117 - val_gender_output_acc: 0.7436 - val_image_quality_output_acc: 0.5709 - val_age_output_acc: 0.4127 - val_weight_output_acc: 0.6305 - val_bag_output_acc: 0.5938 - val_footwear_output_acc: 0.6285 - val_pose_output_acc: 0.7024 - val_emotion_output_acc: 0.7242\n",
            "Epoch 20/50\n",
            "360/360 [==============================] - 96s 266ms/step - loss: 5.5289 - gender_output_loss: 0.5001 - image_quality_output_loss: 0.8967 - age_output_loss: 1.3747 - weight_output_loss: 0.1333 - bag_output_loss: 0.8599 - footwear_output_loss: 0.8104 - pose_output_loss: 0.6809 - emotion_output_loss: 0.1173 - gender_output_acc: 0.7530 - image_quality_output_acc: 0.5650 - age_output_acc: 0.3975 - weight_output_acc: 0.6361 - bag_output_acc: 0.5989 - footwear_output_acc: 0.6383 - pose_output_acc: 0.7087 - emotion_output_acc: 0.7083 - val_loss: 5.5457 - val_gender_output_loss: 0.5009 - val_image_quality_output_loss: 0.8942 - val_age_output_loss: 1.3811 - val_weight_output_loss: 0.1329 - val_bag_output_loss: 0.8816 - val_footwear_output_loss: 0.8070 - val_pose_output_loss: 0.6807 - val_emotion_output_loss: 0.1117 - val_gender_output_acc: 0.7455 - val_image_quality_output_acc: 0.5848 - val_age_output_acc: 0.4172 - val_weight_output_acc: 0.6319 - val_bag_output_acc: 0.5933 - val_footwear_output_acc: 0.6399 - val_pose_output_acc: 0.7128 - val_emotion_output_acc: 0.7242\n",
            "Epoch 21/50\n",
            "360/360 [==============================] - 96s 268ms/step - loss: 5.4920 - gender_output_loss: 0.4924 - image_quality_output_loss: 0.8930 - age_output_loss: 1.3690 - weight_output_loss: 0.1330 - bag_output_loss: 0.8536 - footwear_output_loss: 0.8075 - pose_output_loss: 0.6712 - emotion_output_loss: 0.1168 - gender_output_acc: 0.7578 - image_quality_output_acc: 0.5640 - age_output_acc: 0.4014 - weight_output_acc: 0.6359 - bag_output_acc: 0.6069 - footwear_output_acc: 0.6398 - pose_output_acc: 0.7165 - emotion_output_acc: 0.7092 - val_loss: 5.5142 - val_gender_output_loss: 0.4949 - val_image_quality_output_loss: 0.8877 - val_age_output_loss: 1.3731 - val_weight_output_loss: 0.1329 - val_bag_output_loss: 0.8795 - val_footwear_output_loss: 0.8100 - val_pose_output_loss: 0.6699 - val_emotion_output_loss: 0.1106 - val_gender_output_acc: 0.7545 - val_image_quality_output_acc: 0.5858 - val_age_output_acc: 0.4182 - val_weight_output_acc: 0.6275 - val_bag_output_acc: 0.5942 - val_footwear_output_acc: 0.6424 - val_pose_output_acc: 0.7192 - val_emotion_output_acc: 0.7247\n",
            "Epoch 21/50\n",
            "Epoch 22/50\n",
            "360/360 [==============================] - 95s 264ms/step - loss: 5.4593 - gender_output_loss: 0.4836 - image_quality_output_loss: 0.8890 - age_output_loss: 1.3666 - weight_output_loss: 0.1334 - bag_output_loss: 0.8516 - footwear_output_loss: 0.8045 - pose_output_loss: 0.6584 - emotion_output_loss: 0.1168 - gender_output_acc: 0.7674 - image_quality_output_acc: 0.5701 - age_output_acc: 0.4062 - weight_output_acc: 0.6360 - bag_output_acc: 0.6059 - footwear_output_acc: 0.6427 - pose_output_acc: 0.7210 - emotion_output_acc: 0.7090 - val_loss: 5.5013 - val_gender_output_loss: 0.4916 - val_image_quality_output_loss: 0.8876 - val_age_output_loss: 1.3749 - val_weight_output_loss: 0.1330 - val_bag_output_loss: 0.8785 - val_footwear_output_loss: 0.8034 - val_pose_output_loss: 0.6660 - val_emotion_output_loss: 0.1108 - val_gender_output_acc: 0.7545 - val_image_quality_output_acc: 0.5898 - val_age_output_acc: 0.4122 - val_weight_output_acc: 0.6295 - val_bag_output_acc: 0.5972 - val_footwear_output_acc: 0.6468 - val_pose_output_acc: 0.7232 - val_emotion_output_acc: 0.7247\n",
            "Epoch 23/50\n",
            "360/360 [==============================] - 95s 265ms/step - loss: 5.4485 - gender_output_loss: 0.4786 - image_quality_output_loss: 0.8923 - age_output_loss: 1.3641 - weight_output_loss: 0.1329 - bag_output_loss: 0.8522 - footwear_output_loss: 0.7980 - pose_output_loss: 0.6586 - emotion_output_loss: 0.1163 - gender_output_acc: 0.7705 - image_quality_output_acc: 0.5682 - age_output_acc: 0.4057 - weight_output_acc: 0.6342 - bag_output_acc: 0.6089 - footwear_output_acc: 0.6466 - pose_output_acc: 0.7148 - emotion_output_acc: 0.7091 - val_loss: 5.4993 - val_gender_output_loss: 0.4887 - val_image_quality_output_loss: 0.8876 - val_age_output_loss: 1.3750 - val_weight_output_loss: 0.1335 - val_bag_output_loss: 0.8772 - val_footwear_output_loss: 0.8059 - val_pose_output_loss: 0.6647 - val_emotion_output_loss: 0.1112 - val_gender_output_acc: 0.7609 - val_image_quality_output_acc: 0.5858 - val_age_output_acc: 0.4142 - val_weight_output_acc: 0.6300 - val_bag_output_acc: 0.5977 - val_footwear_output_acc: 0.6424 - val_pose_output_acc: 0.7247 - val_emotion_output_acc: 0.7247\n",
            "360/360 [==============================]Epoch 23/50\n",
            "Epoch 24/50\n",
            "359/360 [============================>.] - ETA: 0s - loss: 5.4365 - gender_output_loss: 0.4784 - image_quality_output_loss: 0.8905 - age_output_loss: 1.3646 - weight_output_loss: 0.1330 - bag_output_loss: 0.8501 - footwear_output_loss: 0.7948 - pose_output_loss: 0.6530 - emotion_output_loss: 0.1167 - gender_output_acc: 0.7688 - image_quality_output_acc: 0.5672 - age_output_acc: 0.4089 - weight_output_acc: 0.6347 - bag_output_acc: 0.6059 - footwear_output_acc: 0.6495 - pose_output_acc: 0.7242 - emotion_output_acc: 0.7093Epoch 24/50\n",
            "360/360 [==============================] - 96s 266ms/step - loss: 5.4369 - gender_output_loss: 0.4786 - image_quality_output_loss: 0.8904 - age_output_loss: 1.3646 - weight_output_loss: 0.1330 - bag_output_loss: 0.8501 - footwear_output_loss: 0.7951 - pose_output_loss: 0.6528 - emotion_output_loss: 0.1168 - gender_output_acc: 0.7688 - image_quality_output_acc: 0.5671 - age_output_acc: 0.4090 - weight_output_acc: 0.6344 - bag_output_acc: 0.6059 - footwear_output_acc: 0.6494 - pose_output_acc: 0.7243 - emotion_output_acc: 0.7090 - val_loss: 5.4933 - val_gender_output_loss: 0.4872 - val_image_quality_output_loss: 0.8854 - val_age_output_loss: 1.3747 - val_weight_output_loss: 0.1326 - val_bag_output_loss: 0.8824 - val_footwear_output_loss: 0.8022 - val_pose_output_loss: 0.6624 - val_emotion_output_loss: 0.1109 - val_gender_output_acc: 0.7669 - val_image_quality_output_acc: 0.5868 - val_age_output_acc: 0.4152 - val_weight_output_acc: 0.6290 - val_bag_output_acc: 0.6002 - val_footwear_output_acc: 0.6458 - val_pose_output_acc: 0.7247 - val_emotion_output_acc: 0.7247\n",
            "Epoch 25/50\n",
            "359/360 [============================>.] - ETA: 0s - loss: 5.4459 - gender_output_loss: 0.4759 - image_quality_output_loss: 0.8892 - age_output_loss: 1.3678 - weight_output_loss: 0.1329 - bag_output_loss: 0.8526 - footwear_output_loss: 0.7988 - pose_output_loss: 0.6563 - emotion_output_loss: 0.1170 - gender_output_acc: 0.7691 - image_quality_output_acc: 0.5675 - age_output_acc: 0.4010 - weight_output_acc: 0.6357 - bag_output_acc: 0.6059 - footwear_output_acc: 0.6442 - pose_output_acc: 0.7203 - emotion_output_acc: 0.7089Epoch 25/50\n",
            "360/360 [==============================] - 96s 267ms/step - loss: 5.4463 - gender_output_loss: 0.4758 - image_quality_output_loss: 0.8894 - age_output_loss: 1.3675 - weight_output_loss: 0.1329 - bag_output_loss: 0.8530 - footwear_output_loss: 0.7991 - pose_output_loss: 0.6562 - emotion_output_loss: 0.1170 - gender_output_acc: 0.7691 - image_quality_output_acc: 0.5674 - age_output_acc: 0.4014 - weight_output_acc: 0.6358 - bag_output_acc: 0.6057 - footwear_output_acc: 0.6442 - pose_output_acc: 0.7204 - emotion_output_acc: 0.7088 - val_loss: 5.5077 - val_gender_output_loss: 0.4850 - val_image_quality_output_loss: 0.8899 - val_age_output_loss: 1.3731 - val_weight_output_loss: 0.1333 - val_bag_output_loss: 0.8822 - val_footwear_output_loss: 0.8014 - val_pose_output_loss: 0.6760 - val_emotion_output_loss: 0.1114 - val_gender_output_acc: 0.7644 - val_image_quality_output_acc: 0.5813 - val_age_output_acc: 0.4152 - val_weight_output_acc: 0.6324 - val_bag_output_acc: 0.5977 - val_footwear_output_acc: 0.6438 - val_pose_output_acc: 0.7133 - val_emotion_output_acc: 0.7247\n",
            "Epoch 26/50\n",
            "359/360 [============================>.] - ETA: 0s - loss: 5.4468 - gender_output_loss: 0.4783 - image_quality_output_loss: 0.8900 - age_output_loss: 1.3650 - weight_output_loss: 0.1334 - bag_output_loss: 0.8522 - footwear_output_loss: 0.7994 - pose_output_loss: 0.6569 - emotion_output_loss: 0.1162 - gender_output_acc: 0.7684 - image_quality_output_acc: 0.5711 - age_output_acc: 0.4089 - weight_output_acc: 0.6341 - bag_output_acc: 0.6079 - footwear_output_acc: 0.6428 - pose_output_acc: 0.7170 - emotion_output_acc: 0.7099\n",
            "360/360 [==============================] - 96s 266ms/step - loss: 5.4468 - gender_output_loss: 0.4783 - image_quality_output_loss: 0.8901 - age_output_loss: 1.3645 - weight_output_loss: 0.1334 - bag_output_loss: 0.8524 - footwear_output_loss: 0.7993 - pose_output_loss: 0.6571 - emotion_output_loss: 0.1162 - gender_output_acc: 0.7683 - image_quality_output_acc: 0.5711 - age_output_acc: 0.4091 - weight_output_acc: 0.6339 - bag_output_acc: 0.6078 - footwear_output_acc: 0.6430 - pose_output_acc: 0.7170 - emotion_output_acc: 0.7096 - val_loss: 5.5087 - val_gender_output_loss: 0.4922 - val_image_quality_output_loss: 0.8875 - val_age_output_loss: 1.3751 - val_weight_output_loss: 0.1332 - val_bag_output_loss: 0.8782 - val_footwear_output_loss: 0.8073 - val_pose_output_loss: 0.6684 - val_emotion_output_loss: 0.1113 - val_gender_output_acc: 0.7569 - val_image_quality_output_acc: 0.5863 - val_age_output_acc: 0.4122 - val_weight_output_acc: 0.6324 - val_bag_output_acc: 0.5977 - val_footwear_output_acc: 0.6438 - val_pose_output_acc: 0.7163 - val_emotion_output_acc: 0.7247\n",
            "Epoch 27/50\n",
            "360/360 [==============================] - 96s 266ms/step - loss: 5.4498 - gender_output_loss: 0.4810 - image_quality_output_loss: 0.8920 - age_output_loss: 1.3663 - weight_output_loss: 0.1329 - bag_output_loss: 0.8495 - footwear_output_loss: 0.7977 - pose_output_loss: 0.6582 - emotion_output_loss: 0.1168 - gender_output_acc: 0.7639 - image_quality_output_acc: 0.5690 - age_output_acc: 0.4059 - weight_output_acc: 0.6361 - bag_output_acc: 0.6062 - footwear_output_acc: 0.6467 - pose_output_acc: 0.7164 - emotion_output_acc: 0.7089 - val_loss: 5.4944 - val_gender_output_loss: 0.4893 - val_image_quality_output_loss: 0.8900 - val_age_output_loss: 1.3739 - val_weight_output_loss: 0.1336 - val_bag_output_loss: 0.8803 - val_footwear_output_loss: 0.8005 - val_pose_output_loss: 0.6605 - val_emotion_output_loss: 0.1109 - val_gender_output_acc: 0.7579 - val_image_quality_output_acc: 0.5883 - val_age_output_acc: 0.4152 - val_weight_output_acc: 0.6300 - val_bag_output_acc: 0.5858 - val_footwear_output_acc: 0.6483 - val_pose_output_acc: 0.7237 - val_emotion_output_acc: 0.7247\n",
            "\b\b\b\b\b\b\b\b\b\b\b\b\b\b\b\b\b\b\b\b\b\b\b\b\b\b\b\b\b\b\b\b\b\b\b\b\b\b\b\b\b\b\b\b\b\b\b\b\b\b\b\b\b\b\b\b\b\b\b\b\b\b\b\b\b\b\b\b\b\b\b\b\b\b\b\b\b\b\b\b\b\b\b\b\b\b\b\b\b\b\b\b\b\b\b\b\b\b\b\b\b\b\b\b\b\b\b\b\b\b\b\b\b\b\b\b\b\b\b\b\b\b\b\b\b\b\b\b\b\b\b\b\b\b\b\b\b\b\b\b\b\b\b\b\b\b\b\b\b\b\b\b\b\b\b\b\b\b\b\b\b\b\b\b\b\b\b\b\b\b\b\b\b\b\b\b\b\b\b\b\b\b\b\b\b\b\b\b\b\b\b\b\b\b\b\b\b\b\b\b\b\b\b\b\b\b\b\b\b\b\b\b\b\b\b\b\b\b\b\b\b\b\b\b\b\b\b\b\b\b\b\b\b\b\b\b\b\b\b\b\b\b\b\b\b\b\b\b\b\b\b\b\b\b\b\b\b\b\b\b\b\b\b\b\b\b\b\b\b\b\b\b\b\b\b\b\b\b\b\b\b\b\b\b\b\b\b\b\b\b\b\b\b\b\b\b\b\b\b\b\b\b\b\b\b\b\b\b\b\b\b\b\b\b\b\b\b\b\b\b\b\b\b\b\b\b\b\b\b\b\b\b\b\b\b\b\b\b\b\b\b\b\b\b\b\b\b\b\b\b\b\b\b\b\b\b\b\b\b\b\b\b\b\b\b\b\b\b\b\b\b\b\b\b\b\b\b\b\b\b\b\b\b\b\b\b\b\b\b\b\b\b\b\b\b\b\b\b\b\b\b\b\b\b\b\b\b\b\b\b\b\b\b\b\b\b\b\b\b\b\b\b\b\b\b\b\b\b\b\b\b\b\b\b\b\b\b\b\b\b\b\b\b\b\b\b\b\b\b\b\b\b\b\b\b\b\b\b\b\b\b\b\b\b\b\b\b\b\b\b\b\b\b\b\b\b\b\b\b\b\b\b\b\b\b\b\b\b\b\b\b\b\b\b\b\b\b\b\b\b\b\b\b\b\b\b\b\b\b\b\b\b\b\b\b\b\b\b\b\b\b\b\b\b\bEpoch 28/50\n",
            "359/360 [============================>.] - ETA: 0s - loss: 5.4475 - gender_output_loss: 0.4810 - image_quality_output_loss: 0.8900 - age_output_loss: 1.3685 - weight_output_loss: 0.1331 - bag_output_loss: 0.8516 - footwear_output_loss: 0.7987 - pose_output_loss: 0.6524 - emotion_output_loss: 0.1170 - gender_output_acc: 0.7645 - image_quality_output_acc: 0.5697 - age_output_acc: 0.4041 - weight_output_acc: 0.6360 - bag_output_acc: 0.6084 - footwear_output_acc: 0.6492 - pose_output_acc: 0.7216 - emotion_output_acc: 0.7082Epoch 28/50\n",
            "360/360 [==============================] - 96s 267ms/step - loss: 5.4489 - gender_output_loss: 0.4808 - image_quality_output_loss: 0.8902 - age_output_loss: 1.3689 - weight_output_loss: 0.1331 - bag_output_loss: 0.8519 - footwear_output_loss: 0.7986 - pose_output_loss: 0.6531 - emotion_output_loss: 0.1169 - gender_output_acc: 0.7645 - image_quality_output_acc: 0.5696 - age_output_acc: 0.4039 - weight_output_acc: 0.6357 - bag_output_acc: 0.6082 - footwear_output_acc: 0.6491 - pose_output_acc: 0.7212 - emotion_output_acc: 0.7083 - val_loss: 5.5576 - val_gender_output_loss: 0.4838 - val_image_quality_output_loss: 0.8919 - val_age_output_loss: 1.3734 - val_weight_output_loss: 0.1327 - val_bag_output_loss: 0.8829 - val_footwear_output_loss: 0.8203 - val_pose_output_loss: 0.7062 - val_emotion_output_loss: 0.1112 - val_gender_output_acc: 0.7520 - val_image_quality_output_acc: 0.5878 - val_age_output_acc: 0.4142 - val_weight_output_acc: 0.6305 - val_bag_output_acc: 0.5992 - val_footwear_output_acc: 0.6230 - val_pose_output_acc: 0.7068 - val_emotion_output_acc: 0.7242\n",
            "Epoch 29/50\n",
            "359/360 [============================>.] - ETA: 0s - loss: 5.4288 - gender_output_loss: 0.4741 - image_quality_output_loss: 0.8916 - age_output_loss: 1.3653 - weight_output_loss: 0.1334 - bag_output_loss: 0.8483 - footwear_output_loss: 0.7932 - pose_output_loss: 0.6507 - emotion_output_loss: 0.1169 - gender_output_acc: 0.7712 - image_quality_output_acc: 0.5655 - age_output_acc: 0.4054 - weight_output_acc: 0.6352 - bag_output_acc: 0.6094 - footwear_output_acc: 0.6529 - pose_output_acc: 0.7228 - emotion_output_acc: 0.7087Epoch 29/50\n",
            "360/360 [==============================] - 96s 266ms/step - loss: 5.4276 - gender_output_loss: 0.4740 - image_quality_output_loss: 0.8914 - age_output_loss: 1.3647 - weight_output_loss: 0.1333 - bag_output_loss: 0.8481 - footwear_output_loss: 0.7935 - pose_output_loss: 0.6506 - emotion_output_loss: 0.1168 - gender_output_acc: 0.7713 - image_quality_output_acc: 0.5657 - age_output_acc: 0.4059 - weight_output_acc: 0.6353 - bag_output_acc: 0.6095 - footwear_output_acc: 0.6528 - pose_output_acc: 0.7226 - emotion_output_acc: 0.7089 - val_loss: 5.4643 - val_gender_output_loss: 0.4692 - val_image_quality_output_loss: 0.8894 - val_age_output_loss: 1.3704 - val_weight_output_loss: 0.1333 - val_bag_output_loss: 0.8755 - val_footwear_output_loss: 0.8091 - val_pose_output_loss: 0.6514 - val_emotion_output_loss: 0.1107 - val_gender_output_acc: 0.7758 - val_image_quality_output_acc: 0.5838 - val_age_output_acc: 0.4062 - val_weight_output_acc: 0.6280 - val_bag_output_acc: 0.6012 - val_footwear_output_acc: 0.6359 - val_pose_output_acc: 0.7267 - val_emotion_output_acc: 0.7247\n",
            "Epoch 30/50\n",
            "360/360 [==============================] - 95s 264ms/step - loss: 5.4004 - gender_output_loss: 0.4647 - image_quality_output_loss: 0.8896 - age_output_loss: 1.3627 - weight_output_loss: 0.1332 - bag_output_loss: 0.8493 - footwear_output_loss: 0.7921 - pose_output_loss: 0.6374 - emotion_output_loss: 0.1161 - gender_output_acc: 0.7792 - image_quality_output_acc: 0.5681 - age_output_acc: 0.4067 - weight_output_acc: 0.6354 - bag_output_acc: 0.6101 - footwear_output_acc: 0.6486 - pose_output_acc: 0.7340 - emotion_output_acc: 0.7094 - val_loss: 5.4885 - val_gender_output_loss: 0.4763 - val_image_quality_output_loss: 0.8867 - val_age_output_loss: 1.3743 - val_weight_output_loss: 0.1327 - val_bag_output_loss: 0.8806 - val_footwear_output_loss: 0.7937 - val_pose_output_loss: 0.6777 - val_emotion_output_loss: 0.1114 - val_gender_output_acc: 0.7619 - val_image_quality_output_acc: 0.5799 - val_age_output_acc: 0.4092 - val_weight_output_acc: 0.6314 - val_bag_output_acc: 0.5938 - val_footwear_output_acc: 0.6468 - val_pose_output_acc: 0.7143 - val_emotion_output_acc: 0.7247\n",
            "Epoch 31/50\n",
            "360/360 [==============================] - 95s 265ms/step - loss: 5.3688 - gender_output_loss: 0.4590 - image_quality_output_loss: 0.8833 - age_output_loss: 1.3570 - weight_output_loss: 0.1325 - bag_output_loss: 0.8434 - footwear_output_loss: 0.7883 - pose_output_loss: 0.6338 - emotion_output_loss: 0.1164 - gender_output_acc: 0.7792 - image_quality_output_acc: 0.5748 - age_output_acc: 0.4128 - weight_output_acc: 0.6361 - bag_output_acc: 0.6135 - footwear_output_acc: 0.6515 - pose_output_acc: 0.7330 - emotion_output_acc: 0.7093 - val_loss: 5.4334 - val_gender_output_loss: 0.4647 - val_image_quality_output_loss: 0.8849 - val_age_output_loss: 1.3687 - val_weight_output_loss: 0.1324 - val_bag_output_loss: 0.8748 - val_footwear_output_loss: 0.7890 - val_pose_output_loss: 0.6529 - val_emotion_output_loss: 0.1109 - val_gender_output_acc: 0.7718 - val_image_quality_output_acc: 0.5883 - val_age_output_acc: 0.4187 - val_weight_output_acc: 0.6290 - val_bag_output_acc: 0.5977 - val_footwear_output_acc: 0.6523 - val_pose_output_acc: 0.7227 - val_emotion_output_acc: 0.7242\n",
            "Epoch 32/50\n",
            "360/360 [==============================] - 96s 266ms/step - loss: 5.3491 - gender_output_loss: 0.4535 - image_quality_output_loss: 0.8830 - age_output_loss: 1.3547 - weight_output_loss: 0.1326 - bag_output_loss: 0.8413 - footwear_output_loss: 0.7841 - pose_output_loss: 0.6291 - emotion_output_loss: 0.1157 - gender_output_acc: 0.7817 - image_quality_output_acc: 0.5706 - age_output_acc: 0.4073 - weight_output_acc: 0.6338 - bag_output_acc: 0.6144 - footwear_output_acc: 0.6553 - pose_output_acc: 0.7337 - emotion_output_acc: 0.7094 - val_loss: 5.4342 - val_gender_output_loss: 0.4677 - val_image_quality_output_loss: 0.8869 - val_age_output_loss: 1.3700 - val_weight_output_loss: 0.1326 - val_bag_output_loss: 0.8741 - val_footwear_output_loss: 0.7928 - val_pose_output_loss: 0.6443 - val_emotion_output_loss: 0.1108 - val_gender_output_acc: 0.7723 - val_image_quality_output_acc: 0.5863 - val_age_output_acc: 0.4072 - val_weight_output_acc: 0.6285 - val_bag_output_acc: 0.6062 - val_footwear_output_acc: 0.6468 - val_pose_output_acc: 0.7356 - val_emotion_output_acc: 0.7242\n",
            "Epoch 33/50\n",
            "360/360 [==============================] - 96s 265ms/step - loss: 5.3316 - gender_output_loss: 0.4469 - image_quality_output_loss: 0.8851 - age_output_loss: 1.3559 - weight_output_loss: 0.1325 - bag_output_loss: 0.8388 - footwear_output_loss: 0.7799 - pose_output_loss: 0.6213 - emotion_output_loss: 0.1160 - gender_output_acc: 0.7872 - image_quality_output_acc: 0.5699 - age_output_acc: 0.4113 - weight_output_acc: 0.6346 - bag_output_acc: 0.6186 - footwear_output_acc: 0.6530 - pose_output_acc: 0.7408 - emotion_output_acc: 0.7088 - val_loss: 5.4143 - val_gender_output_loss: 0.4588 - val_image_quality_output_loss: 0.8863 - val_age_output_loss: 1.3677 - val_weight_output_loss: 0.1321 - val_bag_output_loss: 0.8738 - val_footwear_output_loss: 0.7904 - val_pose_output_loss: 0.6397 - val_emotion_output_loss: 0.1104 - val_gender_output_acc: 0.7768 - val_image_quality_output_acc: 0.5883 - val_age_output_acc: 0.4142 - val_weight_output_acc: 0.6314 - val_bag_output_acc: 0.6081 - val_footwear_output_acc: 0.6518 - val_pose_output_acc: 0.7341 - val_emotion_output_acc: 0.7247\n",
            "Epoch 34/50\n",
            "360/360 [==============================] - 95s 264ms/step - loss: 5.3213 - gender_output_loss: 0.4447 - image_quality_output_loss: 0.8798 - age_output_loss: 1.3542 - weight_output_loss: 0.1329 - bag_output_loss: 0.8406 - footwear_output_loss: 0.7800 - pose_output_loss: 0.6181 - emotion_output_loss: 0.1157 - gender_output_acc: 0.7899 - image_quality_output_acc: 0.5768 - age_output_acc: 0.4105 - weight_output_acc: 0.6340 - bag_output_acc: 0.6186 - footwear_output_acc: 0.6550 - pose_output_acc: 0.7429 - emotion_output_acc: 0.7097 - val_loss: 5.4094 - val_gender_output_loss: 0.4581 - val_image_quality_output_loss: 0.8853 - val_age_output_loss: 1.3670 - val_weight_output_loss: 0.1318 - val_bag_output_loss: 0.8740 - val_footwear_output_loss: 0.7896 - val_pose_output_loss: 0.6380 - val_emotion_output_loss: 0.1104 - val_gender_output_acc: 0.7803 - val_image_quality_output_acc: 0.5873 - val_age_output_acc: 0.4157 - val_weight_output_acc: 0.6314 - val_bag_output_acc: 0.6022 - val_footwear_output_acc: 0.6558 - val_pose_output_acc: 0.7371 - val_emotion_output_acc: 0.7247\n",
            "Epoch 35/50\n",
            "Epoch 34/50\n",
            "360/360 [==============================] - 95s 264ms/step - loss: 5.3182 - gender_output_loss: 0.4479 - image_quality_output_loss: 0.8848 - age_output_loss: 1.3542 - weight_output_loss: 0.1326 - bag_output_loss: 0.8343 - footwear_output_loss: 0.7768 - pose_output_loss: 0.6164 - emotion_output_loss: 0.1161 - gender_output_acc: 0.7883 - image_quality_output_acc: 0.5756 - age_output_acc: 0.4124 - weight_output_acc: 0.6354 - bag_output_acc: 0.6214 - footwear_output_acc: 0.6576 - pose_output_acc: 0.7428 - emotion_output_acc: 0.7091 - val_loss: 5.4065 - val_gender_output_loss: 0.4608 - val_image_quality_output_loss: 0.8830 - val_age_output_loss: 1.3667 - val_weight_output_loss: 0.1316 - val_bag_output_loss: 0.8751 - val_footwear_output_loss: 0.7870 - val_pose_output_loss: 0.6370 - val_emotion_output_loss: 0.1102 - val_gender_output_acc: 0.7793 - val_image_quality_output_acc: 0.5878 - val_age_output_acc: 0.4157 - val_weight_output_acc: 0.6305 - val_bag_output_acc: 0.6007 - val_footwear_output_acc: 0.6548 - val_pose_output_acc: 0.7381 - val_emotion_output_acc: 0.7247\n",
            "Epoch 36/50\n",
            "359/360 [============================>.] - ETA: 0s - loss: 5.3192 - gender_output_loss: 0.4487 - image_quality_output_loss: 0.8789 - age_output_loss: 1.3539 - weight_output_loss: 0.1330 - bag_output_loss: 0.8380 - footwear_output_loss: 0.7789 - pose_output_loss: 0.6165 - emotion_output_loss: 0.1160 - gender_output_acc: 0.7866 - image_quality_output_acc: 0.5722 - age_output_acc: 0.4093 - weight_output_acc: 0.6347 - bag_output_acc: 0.6185 - footwear_output_acc: 0.6576 - pose_output_acc: 0.7411 - emotion_output_acc: 0.7089Epoch 36/50\n",
            "360/360 [==============================] - 95s 265ms/step - loss: 5.3186 - gender_output_loss: 0.4490 - image_quality_output_loss: 0.8791 - age_output_loss: 1.3537 - weight_output_loss: 0.1330 - bag_output_loss: 0.8380 - footwear_output_loss: 0.7785 - pose_output_loss: 0.6160 - emotion_output_loss: 0.1160 - gender_output_acc: 0.7863 - image_quality_output_acc: 0.5721 - age_output_acc: 0.4095 - weight_output_acc: 0.6348 - bag_output_acc: 0.6188 - footwear_output_acc: 0.6578 - pose_output_acc: 0.7414 - emotion_output_acc: 0.7088 - val_loss: 5.4129 - val_gender_output_loss: 0.4593 - val_image_quality_output_loss: 0.8843 - val_age_output_loss: 1.3680 - val_weight_output_loss: 0.1323 - val_bag_output_loss: 0.8733 - val_footwear_output_loss: 0.7912 - val_pose_output_loss: 0.6389 - val_emotion_output_loss: 0.1105 - val_gender_output_acc: 0.7778 - val_image_quality_output_acc: 0.5888 - val_age_output_acc: 0.4107 - val_weight_output_acc: 0.6300 - val_bag_output_acc: 0.6022 - val_footwear_output_acc: 0.6538 - val_pose_output_acc: 0.7326 - val_emotion_output_acc: 0.7247\n",
            "Epoch 37/50\n",
            "360/360 [==============================] - 95s 265ms/step - loss: 5.3186 - gender_output_loss: 0.4490 - image_quality_output_loss: 0.8791 - age_output_loss: 1.3537 - weight_output_loss: 0.1330 - bag_output_loss: 0.8380 - footwear_output_loss: 0.7785 - pose_output_loss: 0.6160 - emotion_output_loss: 0.1160 - gender_output_acc: 0.7863 - image_quality_output_acc: 0.5721 - age_output_acc: 0.4095 - weight_output_acc: 0.6348 - bag_output_acc: 0.6188 - footwear_output_acc: 0.6578 - pose_output_acc: 0.7414 - emotion_output_acc: 0.7088 - val_loss: 5.4129 - val_gender_output_loss: 0.4593 - val_image_quality_output_loss: 0.8843 - val_age_output_loss: 1.3680 - val_weight_output_loss: 0.1323 - val_bag_output_loss: 0.8733 - val_footwear_output_loss: 0.7912 - val_pose_output_loss: 0.6389 - val_emotion_output_loss: 0.1105 - val_gender_output_acc: 0.7778 - val_image_quality_output_acc: 0.5888 - val_age_output_acc: 0.4107 - val_weight_output_acc: 0.6300 - val_bag_output_acc: 0.6022 - val_footwear_output_acc: 0.6538 - val_pose_output_acc: 0.7326 - val_emotion_output_acc: 0.7247\n",
            "Epoch 37/50\n",
            "360/360 [==============================] - 95s 264ms/step - loss: 5.3281 - gender_output_loss: 0.4469 - image_quality_output_loss: 0.8816 - age_output_loss: 1.3564 - weight_output_loss: 0.1326 - bag_output_loss: 0.8376 - footwear_output_loss: 0.7842 - pose_output_loss: 0.6174 - emotion_output_loss: 0.1163 - gender_output_acc: 0.7916 - image_quality_output_acc: 0.5732 - age_output_acc: 0.4097 - weight_output_acc: 0.6345 - bag_output_acc: 0.6161 - footwear_output_acc: 0.6537 - pose_output_acc: 0.7429 - emotion_output_acc: 0.7089 - val_loss: 5.4263 - val_gender_output_loss: 0.4628 - val_image_quality_output_loss: 0.8852 - val_age_output_loss: 1.3716 - val_weight_output_loss: 0.1326 - val_bag_output_loss: 0.8738 - val_footwear_output_loss: 0.7904 - val_pose_output_loss: 0.6443 - val_emotion_output_loss: 0.1106 - val_gender_output_acc: 0.7758 - val_image_quality_output_acc: 0.5888 - val_age_output_acc: 0.4137 - val_weight_output_acc: 0.6295 - val_bag_output_acc: 0.5972 - val_footwear_output_acc: 0.6498 - val_pose_output_acc: 0.7341 - val_emotion_output_acc: 0.7247\n",
            "Epoch 38/50\n",
            "360/360 [==============================] - 95s 264ms/step - loss: 5.3213 - gender_output_loss: 0.4470 - image_quality_output_loss: 0.8817 - age_output_loss: 1.3529 - weight_output_loss: 0.1322 - bag_output_loss: 0.8412 - footwear_output_loss: 0.7794 - pose_output_loss: 0.6156 - emotion_output_loss: 0.1162 - gender_output_acc: 0.7898 - image_quality_output_acc: 0.5694 - age_output_acc: 0.4141 - weight_output_acc: 0.6377 - bag_output_acc: 0.6156 - footwear_output_acc: 0.6558 - pose_output_acc: 0.7389 - emotion_output_acc: 0.7091 - val_loss: 5.4252 - val_gender_output_loss: 0.4658 - val_image_quality_output_loss: 0.8839 - val_age_output_loss: 1.3691 - val_weight_output_loss: 0.1322 - val_bag_output_loss: 0.8749 - val_footwear_output_loss: 0.7962 - val_pose_output_loss: 0.6370 - val_emotion_output_loss: 0.1111 - val_gender_output_acc: 0.7728 - val_image_quality_output_acc: 0.5903 - val_age_output_acc: 0.4122 - val_weight_output_acc: 0.6275 - val_bag_output_acc: 0.6032 - val_footwear_output_acc: 0.6419 - val_pose_output_acc: 0.7312 - val_emotion_output_acc: 0.7247\n",
            "Epoch 39/50\n",
            "359/360 [============================>.] - ETA: 0s - loss: 5.3228 - gender_output_loss: 0.4467 - image_quality_output_loss: 0.8823 - age_output_loss: 1.3537 - weight_output_loss: 0.1327 - bag_output_loss: 0.8382 - footwear_output_loss: 0.7830 - pose_output_loss: 0.6150 - emotion_output_loss: 0.1162 - gender_output_acc: 0.7853 - image_quality_output_acc: 0.5726 - age_output_acc: 0.4065 - weight_output_acc: 0.6353 - bag_output_acc: 0.6177 - footwear_output_acc: 0.6545 - pose_output_acc: 0.7389 - emotion_output_acc: 0.7087Epoch 39/50\n",
            "360/360 [==============================] - 96s 266ms/step - loss: 5.3222 - gender_output_loss: 0.4470 - image_quality_output_loss: 0.8823 - age_output_loss: 1.3533 - weight_output_loss: 0.1328 - bag_output_loss: 0.8376 - footwear_output_loss: 0.7828 - pose_output_loss: 0.6152 - emotion_output_loss: 0.1161 - gender_output_acc: 0.7852 - image_quality_output_acc: 0.5725 - age_output_acc: 0.4067 - weight_output_acc: 0.6351 - bag_output_acc: 0.6181 - footwear_output_acc: 0.6545 - pose_output_acc: 0.7386 - emotion_output_acc: 0.7088 - val_loss: 5.4361 - val_gender_output_loss: 0.4593 - val_image_quality_output_loss: 0.8962 - val_age_output_loss: 1.3704 - val_weight_output_loss: 0.1315 - val_bag_output_loss: 0.8756 - val_footwear_output_loss: 0.7975 - val_pose_output_loss: 0.6400 - val_emotion_output_loss: 0.1104 - val_gender_output_acc: 0.7812 - val_image_quality_output_acc: 0.5848 - val_age_output_acc: 0.4092 - val_weight_output_acc: 0.6305 - val_bag_output_acc: 0.6037 - val_footwear_output_acc: 0.6463 - val_pose_output_acc: 0.7331 - val_emotion_output_acc: 0.7247\n",
            "Epoch 40/50\n",
            "359/360 [============================>.] - ETA: 0s - loss: 5.3135 - gender_output_loss: 0.4421 - image_quality_output_loss: 0.8804 - age_output_loss: 1.3533 - weight_output_loss: 0.1327 - bag_output_loss: 0.8372 - footwear_output_loss: 0.7806 - pose_output_loss: 0.6156 - emotion_output_loss: 0.1166 - gender_output_acc: 0.7925 - image_quality_output_acc: 0.5718 - age_output_acc: 0.4103 - weight_output_acc: 0.6341 - bag_output_acc: 0.6152 - footwear_output_acc: 0.6574 - pose_output_acc: 0.7462 - emotion_output_acc: 0.7093Epoch 40/50\n",
            "360/360 [==============================] - 95s 265ms/step - loss: 5.3143 - gender_output_loss: 0.4419 - image_quality_output_loss: 0.8800 - age_output_loss: 1.3536 - weight_output_loss: 0.1327 - bag_output_loss: 0.8374 - footwear_output_loss: 0.7815 - pose_output_loss: 0.6158 - emotion_output_loss: 0.1165 - gender_output_acc: 0.7925 - image_quality_output_acc: 0.5720 - age_output_acc: 0.4099 - weight_output_acc: 0.6340 - bag_output_acc: 0.6147 - footwear_output_acc: 0.6570 - pose_output_acc: 0.7459 - emotion_output_acc: 0.7095 - val_loss: 5.4052 - val_gender_output_loss: 0.4570 - val_image_quality_output_loss: 0.8818 - val_age_output_loss: 1.3708 - val_weight_output_loss: 0.1314 - val_bag_output_loss: 0.8801 - val_footwear_output_loss: 0.7848 - val_pose_output_loss: 0.6343 - val_emotion_output_loss: 0.1101 - val_gender_output_acc: 0.7773 - val_image_quality_output_acc: 0.5804 - val_age_output_acc: 0.4058 - val_weight_output_acc: 0.6319 - val_bag_output_acc: 0.6042 - val_footwear_output_acc: 0.6503 - val_pose_output_acc: 0.7426 - val_emotion_output_acc: 0.7247\n",
            "Epoch 41/50\n",
            "360/360 [==============================] - 95s 264ms/step - loss: 5.3029 - gender_output_loss: 0.4408 - image_quality_output_loss: 0.8794 - age_output_loss: 1.3557 - weight_output_loss: 0.1325 - bag_output_loss: 0.8357 - footwear_output_loss: 0.7753 - pose_output_loss: 0.6128 - emotion_output_loss: 0.1156 - gender_output_acc: 0.7908 - image_quality_output_acc: 0.5773 - age_output_acc: 0.4061 - weight_output_acc: 0.6360 - bag_output_acc: 0.6219 - footwear_output_acc: 0.6570 - pose_output_acc: 0.7411 - emotion_output_acc: 0.7090 - val_loss: 5.4007 - val_gender_output_loss: 0.4506 - val_image_quality_output_loss: 0.8798 - val_age_output_loss: 1.3683 - val_weight_output_loss: 0.1319 - val_bag_output_loss: 0.8734 - val_footwear_output_loss: 0.7901 - val_pose_output_loss: 0.6414 - val_emotion_output_loss: 0.1102 - val_gender_output_acc: 0.7763 - val_image_quality_output_acc: 0.5938 - val_age_output_acc: 0.4112 - val_weight_output_acc: 0.6300 - val_bag_output_acc: 0.6076 - val_footwear_output_acc: 0.6498 - val_pose_output_acc: 0.7411 - val_emotion_output_acc: 0.7247\n",
            "Epoch 42/50\n",
            "360/360 [==============================] - 95s 265ms/step - loss: 5.2837 - gender_output_loss: 0.4332 - image_quality_output_loss: 0.8794 - age_output_loss: 1.3517 - weight_output_loss: 0.1327 - bag_output_loss: 0.8294 - footwear_output_loss: 0.7740 - pose_output_loss: 0.6124 - emotion_output_loss: 0.1160 - gender_output_acc: 0.7977 - image_quality_output_acc: 0.5748 - age_output_acc: 0.4159 - weight_output_acc: 0.6351 - bag_output_acc: 0.6238 - footwear_output_acc: 0.6600 - pose_output_acc: 0.7454 - emotion_output_acc: 0.7088 - val_loss: 5.4020 - val_gender_output_loss: 0.4514 - val_image_quality_output_loss: 0.8979 - val_age_output_loss: 1.3664 - val_weight_output_loss: 0.1312 - val_bag_output_loss: 0.8745 - val_footwear_output_loss: 0.7832 - val_pose_output_loss: 0.6321 - val_emotion_output_loss: 0.1103 - val_gender_output_acc: 0.7793 - val_image_quality_output_acc: 0.5848 - val_age_output_acc: 0.4142 - val_weight_output_acc: 0.6324 - val_bag_output_acc: 0.6002 - val_footwear_output_acc: 0.6597 - val_pose_output_acc: 0.7356 - val_emotion_output_acc: 0.7247\n",
            "\b\b\b\b\b\b\b\b\b\b\b\b\b\b\b\b\b\b\b\b\b\b\b\b\b\b\b\b\b\b\b\b\b\b\b\b\b\b\b\b\b\b\b\b\b\b\b\b\b\b\b\b\b\b\b\b\b\b\b\b\b\b\b\b\b\b\b\b\b\b\b\b\b\b\b\b\b\b\b\b\b\b\b\b\b\b\b\b\b\b\b\b\b\b\b\b\b\b\b\b\b\b\b\b\b\b\b\b\b\b\b\b\b\b\b\b\b\b\b\b\b\b\b\b\b\b\b\b\b\b\b\b\b\b\b\b\b\b\b\b\b\b\b\b\b\b\b\b\b\b\b\b\b\b\b\b\b\b\b\b\b\b\b\b\b\b\b\b\b\b\b\b\b\b\b\b\b\b\b\b\b\b\b\b\b\b\b\b\b\b\b\b\b\b\b\b\b\b\b\b\b\b\b\b\b\b\b\b\b\b\b\b\b\b\b\b\b\b\b\b\b\b\b\b\b\b\b\b\b\b\b\b\b\b\b\b\b\b\b\b\b\b\b\b\b\b\b\b\b\b\b\b\b\b\b\b\b\b\b\b\b\b\b\b\b\b\b\b\b\b\b\b\b\b\b\b\b\b\b\b\b\b\b\b\b\b\b\b\b\b\b\b\b\b\b\b\b\b\b\b\b\b\b\b\b\b\b\b\b\b\b\b\b\b\b\b\b\b\b\b\b\b\b\b\b\b\b\b\b\b\b\b\b\b\b\b\b\b\b\b\b\b\b\b\b\b\b\b\b\b\b\b\b\b\b\b\b\b\b\b\b\b\b\b\b\b\b\b\b\b\b\b\b\b\b\b\b\b\b\b\b\b\b\b\b\b\b\b\b\b\b\b\b\b\b\b\b\b\b\b\b\b\b\b\b\b\b\b\b\b\b\b\b\b\b\b\b\b\b\b\b\b\b\b\b\b\b\b\b\b\b\b\b\b\b\b\b\b\b\b\b\b\b\b\b\b\b\b\b\b\b\b\b\b\b\b\b\b\b\b\b\b\b\b\b\b\b\b\b\b\b\b\b\b\b\b\b\b\b\b\b\b\b\b\b\b\b\b\b\b\b\b\b\b\b\b\b\b\b\b\b\b\b\b\b\b\b\b\b\b\b\b\b\b\b\b\b\b\b\b\b\b\b\b\bEpoch 43/50\n",
            "359/360 [============================>.] - ETA: 0s - loss: 5.2692 - gender_output_loss: 0.4356 - image_quality_output_loss: 0.8780 - age_output_loss: 1.3469 - weight_output_loss: 0.1328 - bag_output_loss: 0.8321 - footwear_output_loss: 0.7727 - pose_output_loss: 0.6004 - emotion_output_loss: 0.1156 - gender_output_acc: 0.7947 - image_quality_output_acc: 0.5751 - age_output_acc: 0.4126 - weight_output_acc: 0.6348 - bag_output_acc: 0.6261 - footwear_output_acc: 0.6638 - pose_output_acc: 0.7488 - emotion_output_acc: 0.7090Epoch 43/50\n",
            "360/360 [==============================] - 95s 264ms/step - loss: 5.2693 - gender_output_loss: 0.4357 - image_quality_output_loss: 0.8780 - age_output_loss: 1.3476 - weight_output_loss: 0.1328 - bag_output_loss: 0.8318 - footwear_output_loss: 0.7723 - pose_output_loss: 0.6002 - emotion_output_loss: 0.1158 - gender_output_acc: 0.7946 - image_quality_output_acc: 0.5753 - age_output_acc: 0.4123 - weight_output_acc: 0.6347 - bag_output_acc: 0.6262 - footwear_output_acc: 0.6644 - pose_output_acc: 0.7488 - emotion_output_acc: 0.7087 - val_loss: 5.3793 - val_gender_output_loss: 0.4434 - val_image_quality_output_loss: 0.8870 - val_age_output_loss: 1.3660 - val_weight_output_loss: 0.1319 - val_bag_output_loss: 0.8736 - val_footwear_output_loss: 0.7838 - val_pose_output_loss: 0.6285 - val_emotion_output_loss: 0.1102 - val_gender_output_acc: 0.7827 - val_image_quality_output_acc: 0.5779 - val_age_output_acc: 0.4092 - val_weight_output_acc: 0.6329 - val_bag_output_acc: 0.6071 - val_footwear_output_acc: 0.6503 - val_pose_output_acc: 0.7406 - val_emotion_output_acc: 0.7247\n",
            "Epoch 44/50\n",
            "360/360 [==============================] - 95s 264ms/step - loss: 5.2613 - gender_output_loss: 0.4283 - image_quality_output_loss: 0.8794 - age_output_loss: 1.3488 - weight_output_loss: 0.1327 - bag_output_loss: 0.8275 - footwear_output_loss: 0.7722 - pose_output_loss: 0.6018 - emotion_output_loss: 0.1155 - gender_output_acc: 0.8011 - image_quality_output_acc: 0.5767 - age_output_acc: 0.4142 - weight_output_acc: 0.6354 - bag_output_acc: 0.6245 - footwear_output_acc: 0.6564 - pose_output_acc: 0.7463 - emotion_output_acc: 0.7086 - val_loss: 5.3768 - val_gender_output_loss: 0.4476 - val_image_quality_output_loss: 0.8816 - val_age_output_loss: 1.3656 - val_weight_output_loss: 0.1319 - val_bag_output_loss: 0.8719 - val_footwear_output_loss: 0.7833 - val_pose_output_loss: 0.6294 - val_emotion_output_loss: 0.1104 - val_gender_output_acc: 0.7817 - val_image_quality_output_acc: 0.5913 - val_age_output_acc: 0.4097 - val_weight_output_acc: 0.6310 - val_bag_output_acc: 0.6071 - val_footwear_output_acc: 0.6533 - val_pose_output_acc: 0.7431 - val_emotion_output_acc: 0.7247\n",
            "Epoch 45/50\n",
            "360/360 [==============================] - 95s 263ms/step - loss: 5.2446 - gender_output_loss: 0.4249 - image_quality_output_loss: 0.8751 - age_output_loss: 1.3484 - weight_output_loss: 0.1327 - bag_output_loss: 0.8291 - footwear_output_loss: 0.7673 - pose_output_loss: 0.5966 - emotion_output_loss: 0.1155 - gender_output_acc: 0.8000 - image_quality_output_acc: 0.5706 - age_output_acc: 0.4102 - weight_output_acc: 0.6349 - bag_output_acc: 0.6238 - footwear_output_acc: 0.6588 - pose_output_acc: 0.7513 - emotion_output_acc: 0.7095 - val_loss: 5.3753 - val_gender_output_loss: 0.4457 - val_image_quality_output_loss: 0.8812 - val_age_output_loss: 1.3650 - val_weight_output_loss: 0.1318 - val_bag_output_loss: 0.8723 - val_footwear_output_loss: 0.7844 - val_pose_output_loss: 0.6297 - val_emotion_output_loss: 0.1102 - val_gender_output_acc: 0.7857 - val_image_quality_output_acc: 0.5923 - val_age_output_acc: 0.4142 - val_weight_output_acc: 0.6314 - val_bag_output_acc: 0.6141 - val_footwear_output_acc: 0.6548 - val_pose_output_acc: 0.7391 - val_emotion_output_acc: 0.7247\n",
            "Epoch 46/50\n",
            "Epoch 45/50\n",
            "360/360 [==============================] - 95s 265ms/step - loss: 5.2544 - gender_output_loss: 0.4282 - image_quality_output_loss: 0.8721 - age_output_loss: 1.3441 - weight_output_loss: 0.1321 - bag_output_loss: 0.8325 - footwear_output_loss: 0.7714 - pose_output_loss: 0.6037 - emotion_output_loss: 0.1154 - gender_output_acc: 0.8019 - image_quality_output_acc: 0.5775 - age_output_acc: 0.4142 - weight_output_acc: 0.6359 - bag_output_acc: 0.6211 - footwear_output_acc: 0.6622 - pose_output_acc: 0.7455 - emotion_output_acc: 0.7094 - val_loss: 5.3689 - val_gender_output_loss: 0.4437 - val_image_quality_output_loss: 0.8813 - val_age_output_loss: 1.3646 - val_weight_output_loss: 0.1318 - val_bag_output_loss: 0.8713 - val_footwear_output_loss: 0.7834 - val_pose_output_loss: 0.6275 - val_emotion_output_loss: 0.1104 - val_gender_output_acc: 0.7857 - val_image_quality_output_acc: 0.5903 - val_age_output_acc: 0.4097 - val_weight_output_acc: 0.6314 - val_bag_output_acc: 0.6081 - val_footwear_output_acc: 0.6567 - val_pose_output_acc: 0.7396 - val_emotion_output_acc: 0.7247\n",
            "Epoch 47/50\n",
            "360/360 [==============================] - 95s 264ms/step - loss: 5.2462 - gender_output_loss: 0.4227 - image_quality_output_loss: 0.8752 - age_output_loss: 1.3479 - weight_output_loss: 0.1327 - bag_output_loss: 0.8314 - footwear_output_loss: 0.7672 - pose_output_loss: 0.5980 - emotion_output_loss: 0.1160 - gender_output_acc: 0.8022 - image_quality_output_acc: 0.5784 - age_output_acc: 0.4117 - weight_output_acc: 0.6361 - bag_output_acc: 0.6231 - footwear_output_acc: 0.6635 - pose_output_acc: 0.7483 - emotion_output_acc: 0.7087 - val_loss: 5.3736 - val_gender_output_loss: 0.4439 - val_image_quality_output_loss: 0.8804 - val_age_output_loss: 1.3659 - val_weight_output_loss: 0.1325 - val_bag_output_loss: 0.8710 - val_footwear_output_loss: 0.7855 - val_pose_output_loss: 0.6289 - val_emotion_output_loss: 0.1106 - val_gender_output_acc: 0.7872 - val_image_quality_output_acc: 0.5928 - val_age_output_acc: 0.4062 - val_weight_output_acc: 0.6270 - val_bag_output_acc: 0.6017 - val_footwear_output_acc: 0.6562 - val_pose_output_acc: 0.7386 - val_emotion_output_acc: 0.7247\n",
            "\n",
            "Epoch 48/50\n",
            "360/360 [==============================] - 95s 265ms/step - loss: 5.2523 - gender_output_loss: 0.4256 - image_quality_output_loss: 0.8754 - age_output_loss: 1.3476 - weight_output_loss: 0.1325 - bag_output_loss: 0.8310 - footwear_output_loss: 0.7727 - pose_output_loss: 0.5969 - emotion_output_loss: 0.1157 - gender_output_acc: 0.8020 - image_quality_output_acc: 0.5793 - age_output_acc: 0.4142 - weight_output_acc: 0.6344 - bag_output_acc: 0.6212 - footwear_output_acc: 0.6597 - pose_output_acc: 0.7519 - emotion_output_acc: 0.7089 - val_loss: 5.3823 - val_gender_output_loss: 0.4510 - val_image_quality_output_loss: 0.8808 - val_age_output_loss: 1.3646 - val_weight_output_loss: 0.1320 - val_bag_output_loss: 0.8750 - val_footwear_output_loss: 0.7842 - val_pose_output_loss: 0.6293 - val_emotion_output_loss: 0.1106 - val_gender_output_acc: 0.7793 - val_image_quality_output_acc: 0.5888 - val_age_output_acc: 0.4117 - val_weight_output_acc: 0.6285 - val_bag_output_acc: 0.5957 - val_footwear_output_acc: 0.6533 - val_pose_output_acc: 0.7381 - val_emotion_output_acc: 0.7247\n",
            "\n",
            "Epoch 49/50\n",
            "360/360 [==============================] - 95s 264ms/step - loss: 5.2488 - gender_output_loss: 0.4282 - image_quality_output_loss: 0.8756 - age_output_loss: 1.3475 - weight_output_loss: 0.1326 - bag_output_loss: 0.8303 - footwear_output_loss: 0.7684 - pose_output_loss: 0.5954 - emotion_output_loss: 0.1158 - gender_output_acc: 0.7989 - image_quality_output_acc: 0.5779 - age_output_acc: 0.4141 - weight_output_acc: 0.6347 - bag_output_acc: 0.6235 - footwear_output_acc: 0.6635 - pose_output_acc: 0.7500 - emotion_output_acc: 0.7089 - val_loss: 5.3824 - val_gender_output_loss: 0.4420 - val_image_quality_output_loss: 0.8860 - val_age_output_loss: 1.3657 - val_weight_output_loss: 0.1320 - val_bag_output_loss: 0.8707 - val_footwear_output_loss: 0.7872 - val_pose_output_loss: 0.6336 - val_emotion_output_loss: 0.1101 - val_gender_output_acc: 0.7902 - val_image_quality_output_acc: 0.5833 - val_age_output_acc: 0.4087 - val_weight_output_acc: 0.6290 - val_bag_output_acc: 0.6116 - val_footwear_output_acc: 0.6473 - val_pose_output_acc: 0.7431 - val_emotion_output_acc: 0.7247\n",
            "Epoch 50/50\n",
            "Epoch 49/50\n",
            "360/360 [==============================] - 95s 265ms/step - loss: 5.2435 - gender_output_loss: 0.4240 - image_quality_output_loss: 0.8750 - age_output_loss: 1.3491 - weight_output_loss: 0.1321 - bag_output_loss: 0.8300 - footwear_output_loss: 0.7684 - pose_output_loss: 0.5946 - emotion_output_loss: 0.1156 - gender_output_acc: 0.8054 - image_quality_output_acc: 0.5793 - age_output_acc: 0.4128 - weight_output_acc: 0.6366 - bag_output_acc: 0.6272 - footwear_output_acc: 0.6611 - pose_output_acc: 0.7528 - emotion_output_acc: 0.7086 - val_loss: 5.3716 - val_gender_output_loss: 0.4433 - val_image_quality_output_loss: 0.8834 - val_age_output_loss: 1.3643 - val_weight_output_loss: 0.1316 - val_bag_output_loss: 0.8725 - val_footwear_output_loss: 0.7822 - val_pose_output_loss: 0.6293 - val_emotion_output_loss: 0.1100 - val_gender_output_acc: 0.7907 - val_image_quality_output_acc: 0.5893 - val_age_output_acc: 0.4162 - val_weight_output_acc: 0.6319 - val_bag_output_acc: 0.6032 - val_footwear_output_acc: 0.6567 - val_pose_output_acc: 0.7431 - val_emotion_output_acc: 0.7247\n"
          ],
          "name": "stdout"
        },
        {
          "output_type": "execute_result",
          "data": {
            "text/plain": [
              "<keras.callbacks.History at 0x7f6265b83978>"
            ]
          },
          "metadata": {
            "tags": []
          },
          "execution_count": 87
        }
      ]
    },
    {
      "cell_type": "code",
      "metadata": {
        "id": "IKEVIrZoMfC_",
        "colab_type": "code",
        "colab": {
          "base_uri": "https://localhost:8080/",
          "height": 163
        },
        "outputId": "0cfb6f63-e9d8-481b-e0db-11be40f11c30"
      },
      "source": [
        "def evaluate_model(model):\n",
        "    results = model.evaluate_generator(valid_gen, verbose=1)\n",
        "    accuracies = {}\n",
        "    losses = {}\n",
        "    for k, v in zip(model.metrics_names, results):\n",
        "        if k.endswith('acc'):\n",
        "            accuracies[k] = round(v * 100, 4) \n",
        "        else:\n",
        "            losses[k] = v\n",
        "    return accuracies\n",
        "\n",
        "evaluate_model(model)"
      ],
      "execution_count": 88,
      "outputs": [
        {
          "output_type": "stream",
          "text": [
            "63/63 [==============================] - 5s 86ms/step\n"
          ],
          "name": "stdout"
        },
        {
          "output_type": "execute_result",
          "data": {
            "text/plain": [
              "{'age_output_acc': 41.6171,\n",
              " 'bag_output_acc': 60.3175,\n",
              " 'emotion_output_acc': 72.4702,\n",
              " 'footwear_output_acc': 65.6746,\n",
              " 'gender_output_acc': 79.0675,\n",
              " 'image_quality_output_acc': 58.9286,\n",
              " 'pose_output_acc': 74.3056,\n",
              " 'weight_output_acc': 63.1944}"
            ]
          },
          "metadata": {
            "tags": []
          },
          "execution_count": 88
        }
      ]
    }
  ]
}